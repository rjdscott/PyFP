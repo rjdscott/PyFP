{
 "cells": [
  {
   "cell_type": "markdown",
   "metadata": {},
   "source": [
    "# PyFP - Recursion vs Iteration\n",
    "\n",
    "In this example, we will explore the difference between using recursion and iteration to solve two common exaples. \n",
    "\n",
    "# Factorial\n",
    "The factorial of a number is the summation of the product of all the positive numbers less than itself. \n",
    "\n",
    "For example: the factorial of 5, denoted as \n",
    "```\n",
    "5! = 1 * 2 * 3 * 4 * 5 \n",
    "   = 120\n",
    "```\n",
    "## Iteration"
   ]
  },
  {
   "cell_type": "code",
   "execution_count": 1,
   "metadata": {},
   "outputs": [
    {
     "name": "stdout",
     "output_type": "stream",
     "text": [
      "3628800\n",
      "1.1 µs ± 30.7 ns per loop (mean ± std. dev. of 7 runs, 1000000 loops each)\n",
      "11.7 µs ± 178 ns per loop (mean ± std. dev. of 7 runs, 100000 loops each)\n",
      "337 µs ± 4.98 µs per loop (mean ± std. dev. of 7 runs, 1000 loops each)\n"
     ]
    }
   ],
   "source": [
    "def factorial_iter(n):\n",
    "    \"Iterative factorial function\"\n",
    "    assert isinstance(n, int) and n >= 1\n",
    "    product = 1\n",
    "    while n >= 1:\n",
    "        product *= n\n",
    "        n -= 1\n",
    "    return product\n",
    "\n",
    "print(factorial_iter(10))\n",
    "%timeit factorial_iter(10)\n",
    "%timeit factorial_iter(100)\n",
    "%timeit factorial_iter(1000)"
   ]
  },
  {
   "cell_type": "markdown",
   "metadata": {},
   "source": [
    "## Recursion \n",
    "Using only functions in the standard library, we can write a recursive function that repeats the function call from `n` down to zero and multiply `n` by `factorial_recur(n-1)`."
   ]
  },
  {
   "cell_type": "code",
   "execution_count": 2,
   "metadata": {},
   "outputs": [
    {
     "name": "stdout",
     "output_type": "stream",
     "text": [
      "3628800\n",
      "2.77 µs ± 42.4 ns per loop (mean ± std. dev. of 7 runs, 100000 loops each)\n",
      "30.7 µs ± 698 ns per loop (mean ± std. dev. of 7 runs, 10000 loops each)\n",
      "537 µs ± 8.28 µs per loop (mean ± std. dev. of 7 runs, 1000 loops each)\n"
     ]
    }
   ],
   "source": [
    "def factorial_recur(n):\n",
    "    \"Recursive factorial function\"\n",
    "    assert isinstance(n, int) and n >= 1\n",
    "    return 1 if n <= 1 else n* factorial_recur(n-1)\n",
    "\n",
    "print(factorial_recur(10))\n",
    "%timeit factorial_recur(10)\n",
    "%timeit factorial_recur(100)\n",
    "%timeit factorial_recur(1000)"
   ]
  },
  {
   "cell_type": "markdown",
   "metadata": {},
   "source": [
    "Now we can see that the above example is slower than the iteration example but by importing functions from the `functools` and `operator` libraries, we can take a more functional approach which has quite a positive impact on the functions performance. \n",
    "\n",
    "## Recursion - with High Order Functions\n",
    "Regularly used in functional programming, **Higher Order Functions** allow us to use a function as an input into another function. In this case will use the multiplier operator as an input in to the reduce function and produces positive results in terms of performance."
   ]
  },
  {
   "cell_type": "code",
   "execution_count": 3,
   "metadata": {},
   "outputs": [
    {
     "name": "stdout",
     "output_type": "stream",
     "text": [
      "3628800\n",
      "1.08 µs ± 41.6 ns per loop (mean ± std. dev. of 7 runs, 1000000 loops each)\n",
      "9.37 µs ± 644 ns per loop (mean ± std. dev. of 7 runs, 100000 loops each)\n",
      "272 µs ± 4.18 µs per loop (mean ± std. dev. of 7 runs, 1000 loops each)\n"
     ]
    }
   ],
   "source": [
    "from functools import reduce\n",
    "from operator import mul\n",
    "\n",
    "def factorial_HOF(n):\n",
    "    return reduce(mul, range(1, n+1), 1)\n",
    "\n",
    "print(factorial_HOF(10))\n",
    "%timeit factorial_HOF(10)\n",
    "%timeit factorial_HOF(100)\n",
    "%timeit factorial_HOF(1000)"
   ]
  },
  {
   "cell_type": "markdown",
   "metadata": {},
   "source": [
    "# Fibonacci Sequence\n",
    "\n",
    "The fibonacci sequence is a recurring relationship between numbers up to a specified point. This produces a sequence as such: 0, 1, 1, 2, 3, 5, 8, 13, 21, 34 ... and can be expressed mathamatically as:\n",
    "\n",
    "```\n",
    "  f(n) = f(n-1) + f(n-2)\n",
    "    or\n",
    "f(n+2) = f(n+1) + f(n)\n",
    "```\n",
    "\n",
    "\n",
    "In this example we want to find the `nth` fibonacci number which can be computed iterativelt or recursively\n",
    "\n",
    "## Iteration"
   ]
  },
  {
   "cell_type": "code",
   "execution_count": 4,
   "metadata": {},
   "outputs": [
    {
     "name": "stdout",
     "output_type": "stream",
     "text": [
      "55\n",
      "751 ns ± 22 ns per loop (mean ± std. dev. of 7 runs, 1000000 loops each)\n",
      "5.46 µs ± 59.3 ns per loop (mean ± std. dev. of 7 runs, 100000 loops each)\n",
      "67.8 µs ± 2.25 µs per loop (mean ± std. dev. of 7 runs, 10000 loops each)\n"
     ]
    }
   ],
   "source": [
    "def fib_iter(n):\n",
    "    old, new = 0, 1\n",
    "    if n == 0:\n",
    "        return 0\n",
    "    for i in range(n-1):\n",
    "        old, new = new, old + new\n",
    "    return new\n",
    "\n",
    "print(fib_iter(10))\n",
    "%timeit fib_iter(10)\n",
    "%timeit fib_iter(100)\n",
    "%timeit fib_iter(1000)"
   ]
  },
  {
   "cell_type": "markdown",
   "metadata": {},
   "source": [
    "## Recursion - without stored variables\n",
    "\n",
    "One of the short-falls of using recursion for this solution is you are bound to encounter a stack overflow issue as the computer needs to keep track of each of the recursive calls.\n",
    "\n",
    "In this example I have only timed the function for n of 10, 20, 30 just to highlight this point, but as we can see, it is significantly slower!"
   ]
  },
  {
   "cell_type": "code",
   "execution_count": 5,
   "metadata": {},
   "outputs": [
    {
     "name": "stdout",
     "output_type": "stream",
     "text": [
      "55\n",
      "24.4 µs ± 339 ns per loop (mean ± std. dev. of 7 runs, 10000 loops each)\n",
      "2.99 ms ± 58.3 µs per loop (mean ± std. dev. of 7 runs, 100 loops each)\n",
      "368 ms ± 5.95 ms per loop (mean ± std. dev. of 7 runs, 1 loop each)\n"
     ]
    }
   ],
   "source": [
    "def fib_recur(n):\n",
    "    if n == 0:\n",
    "        return 0\n",
    "    elif n == 1:\n",
    "        return 1\n",
    "    else:\n",
    "        return fib_recur(n-1) + fib_recur(n-2)\n",
    "\n",
    "print(fib_recur(10))\n",
    "%timeit fib_recur(10)\n",
    "%timeit fib_recur(20)\n",
    "%timeit fib_recur(30)"
   ]
  },
  {
   "cell_type": "markdown",
   "metadata": {},
   "source": [
    "## Recursion - with variables stored in dictionary\n",
    "We can implement a \"memory\" for our recursive version by using a dictionary to save the previously calculated values. \n",
    "\n",
    "We will also go back to using the inital values of n = 10, 100, 1000, 2000\n",
    "\n",
    "Observe the fact that the time is almost constant. "
   ]
  },
  {
   "cell_type": "code",
   "execution_count": 6,
   "metadata": {},
   "outputs": [
    {
     "name": "stdout",
     "output_type": "stream",
     "text": [
      "55\n",
      "153 ns ± 0.787 ns per loop (mean ± std. dev. of 7 runs, 10000000 loops each)\n",
      "153 ns ± 0.685 ns per loop (mean ± std. dev. of 7 runs, 10000000 loops each)\n",
      "157 ns ± 5.02 ns per loop (mean ± std. dev. of 7 runs, 10000000 loops each)\n",
      "160 ns ± 6.17 ns per loop (mean ± std. dev. of 7 runs, 10000000 loops each)\n"
     ]
    }
   ],
   "source": [
    "mem = {0:0, 1:1}\n",
    "def fib_recur_mem(n):\n",
    "    if not n in mem:\n",
    "        mem[n] = fib_recur_mem(n-1) + fib_recur_mem(n-2)\n",
    "    return mem[n]\n",
    "\n",
    "print(fib_recur_mem(10))\n",
    "%timeit fib_recur_mem(10)\n",
    "%timeit fib_recur_mem(100)\n",
    "%timeit fib_recur_mem(1000)\n",
    "%timeit fib_recur_mem(2000)"
   ]
  }
 ],
 "metadata": {
  "kernelspec": {
   "display_name": "Python 3",
   "language": "python",
   "name": "python3"
  },
  "language_info": {
   "codemirror_mode": {
    "name": "ipython",
    "version": 3
   },
   "file_extension": ".py",
   "mimetype": "text/x-python",
   "name": "python",
   "nbconvert_exporter": "python",
   "pygments_lexer": "ipython3",
   "version": "3.6.5"
  }
 },
 "nbformat": 4,
 "nbformat_minor": 2
}
