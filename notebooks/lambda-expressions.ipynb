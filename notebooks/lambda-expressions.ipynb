{
 "cells": [
  {
   "cell_type": "markdown",
   "metadata": {},
   "source": [
    "# Python-FP: Lambda Expressions\n",
    "A lambda function is a small anonymous function that can take any number of arguments, but can only have one expression.\n",
    "\n",
    "Lambda expressions are useful on their own but become far more interesting and powerful when parsed through `filter()`, `map()` or `reduce()` functions. \n",
    "\n",
    "When working with sequences these functions and expressions enable programmers to move away from iterating and take a cleaner functional approach.\n",
    "\n",
    "\n",
    "## Syntax\n",
    "```python\n",
    "lambda arguments : expression\n",
    ".filter(lambda x : x, sequence)\n",
    ".map(lambda x : x, sequence)\n",
    ".reduce(lambda x, y: x + y, sequence)\n",
    "```\n",
    "\n",
    "# `lambda x: x`\n",
    "Lets assign a lambda expression to a variable that will multiply itself by itself. Then, we will see what is returned if print the variable"
   ]
  },
  {
   "cell_type": "code",
   "execution_count": 1,
   "metadata": {},
   "outputs": [
    {
     "name": "stdout",
     "output_type": "stream",
     "text": [
      "<function <lambda> at 0x1064c32f0>\n"
     ]
    }
   ],
   "source": [
    "square = lambda x : x * x\n",
    "print(square)"
   ]
  },
  {
   "cell_type": "markdown",
   "metadata": {},
   "source": [
    "Lets now parse a number and see what is returned"
   ]
  },
  {
   "cell_type": "code",
   "execution_count": 2,
   "metadata": {},
   "outputs": [
    {
     "data": {
      "text/plain": [
       "25"
      ]
     },
     "execution_count": 2,
     "metadata": {},
     "output_type": "execute_result"
    }
   ],
   "source": [
    "square(5)"
   ]
  },
  {
   "cell_type": "markdown",
   "metadata": {},
   "source": [
    "# `filter(func, seq)`\n",
    "For this example, lets take a list of intergers and using list comprehension return a list of even numbers, and using filter and lambda to return the odd numbers. "
   ]
  },
  {
   "cell_type": "code",
   "execution_count": 3,
   "metadata": {},
   "outputs": [],
   "source": [
    "numbers = [1,2,3,4,5,6,7,8,9,10]"
   ]
  },
  {
   "cell_type": "markdown",
   "metadata": {},
   "source": [
    "List comprehension iterates through each num in numbers and if the modulo of num and 2 equals zero, return True and assign to the evens variable."
   ]
  },
  {
   "cell_type": "code",
   "execution_count": 4,
   "metadata": {},
   "outputs": [
    {
     "name": "stdout",
     "output_type": "stream",
     "text": [
      "[2, 4, 6, 8, 10]\n"
     ]
    }
   ],
   "source": [
    "evens = [num for num in numbers if num % 2 == 0]\n",
    "print(evens)"
   ]
  },
  {
   "cell_type": "markdown",
   "metadata": {},
   "source": [
    "Now lets try to acheive the same with odd numbers but instead of iteration, we will use a lambda expression and utilise the `.filter()` method. This will only include values in the list that return a boolean value of `True`"
   ]
  },
  {
   "cell_type": "code",
   "execution_count": 5,
   "metadata": {},
   "outputs": [
    {
     "name": "stdout",
     "output_type": "stream",
     "text": [
      "[1, 3, 5, 7, 9]\n"
     ]
    }
   ],
   "source": [
    "odds = list(filter(lambda x: x % 2 == 1, numbers))\n",
    "print(odds)"
   ]
  },
  {
   "cell_type": "markdown",
   "metadata": {},
   "source": [
    "# `map(func, seq)`\n",
    "\n",
    "For this exammple, lets use a list containing weekdays."
   ]
  },
  {
   "cell_type": "code",
   "execution_count": 6,
   "metadata": {},
   "outputs": [],
   "source": [
    "weekdays = ['Monday','Tuesday','Wednesday','Thursday','Friday']"
   ]
  },
  {
   "cell_type": "markdown",
   "metadata": {},
   "source": [
    "Let's use **list comprehension** to return the `.lower()` of each element"
   ]
  },
  {
   "cell_type": "code",
   "execution_count": 7,
   "metadata": {},
   "outputs": [
    {
     "name": "stdout",
     "output_type": "stream",
     "text": [
      "['monday', 'tuesday', 'wednesday', 'thursday', 'friday']\n"
     ]
    }
   ],
   "source": [
    "weekdays_lower = [d.lower() for d in weekdays]\n",
    "print(weekdays_lower)"
   ]
  },
  {
   "cell_type": "markdown",
   "metadata": {},
   "source": [
    "lets use the `.map()` function to apply the string `.upper()` to each element using a lambda expression."
   ]
  },
  {
   "cell_type": "code",
   "execution_count": 8,
   "metadata": {},
   "outputs": [
    {
     "name": "stdout",
     "output_type": "stream",
     "text": [
      "['MONDAY', 'TUESDAY', 'WEDNESDAY', 'THURSDAY', 'FRIDAY']\n"
     ]
    }
   ],
   "source": [
    "weekdays_upper = list(map(lambda x: x.upper(), weekdays))\n",
    "print(weekdays_upper)"
   ]
  },
  {
   "cell_type": "markdown",
   "metadata": {},
   "source": [
    "# `reduce(lambda x, y : x + y, seq)`\n",
    "The `reduce()` function takes in an iterable, and then reduces the iterable to a single value. Reduce is different from `filter()` and `map()`, because `reduce()` takes in a function that has two input values."
   ]
  },
  {
   "cell_type": "code",
   "execution_count": 9,
   "metadata": {},
   "outputs": [
    {
     "name": "stdout",
     "output_type": "stream",
     "text": [
      "10\n"
     ]
    }
   ],
   "source": [
    "from functools import reduce\n",
    "\n",
    "values = [1, 2, 3, 4]\n",
    "\n",
    "summed = reduce(lambda a, b: a + b, values)\n",
    "print(summed)"
   ]
  },
  {
   "cell_type": "markdown",
   "metadata": {},
   "source": [
    "# Performance Tests\n",
    "Lets import pythons timeit module"
   ]
  },
  {
   "cell_type": "code",
   "execution_count": 10,
   "metadata": {},
   "outputs": [],
   "source": [
    "from timeit import timeit"
   ]
  },
  {
   "cell_type": "markdown",
   "metadata": {},
   "source": [
    "### Map vs Iteration"
   ]
  },
  {
   "cell_type": "code",
   "execution_count": 11,
   "metadata": {},
   "outputs": [
    {
     "name": "stdout",
     "output_type": "stream",
     "text": [
      "Iter: 1.20047830499243\n",
      " Map: 0.8656674049998401\n"
     ]
    }
   ],
   "source": [
    "# Iteration using list comprhension\n",
    "time_iter1 = timeit('\"-\".join([str(n) for n in range(500)])', \n",
    "                           number=10000)\n",
    "\n",
    "# Using map function\n",
    "time_map1 = timeit('\"-\".join(map(str, range(500)))',\n",
    "                          number=10000)\n",
    "\n",
    "# Print results\n",
    "print('Iter: {}'.format(time_iter1))\n",
    "print(' Map: {}'.format(time_map1))"
   ]
  },
  {
   "cell_type": "markdown",
   "metadata": {},
   "source": [
    "### Filter vs Iteration"
   ]
  },
  {
   "cell_type": "code",
   "execution_count": 12,
   "metadata": {},
   "outputs": [
    {
     "name": "stdout",
     "output_type": "stream",
     "text": [
      "  Iter: 0.6535608620033599\n",
      "Filter: 0.004674522002460435\n"
     ]
    }
   ],
   "source": [
    "# Iteration using list comprhension\n",
    "time_iter = timeit('[c for c in range(1000) if c % 2 ==0]', \n",
    "                           number=10000)\n",
    "\n",
    "# Using filter function\n",
    "time_filter = timeit('filter(lambda x: x % 2 == 0, range(5000))',\n",
    "                          number=10000)\n",
    "\n",
    "# Print results\n",
    "print('  Iter: {}'.format(time_iter))\n",
    "print('Filter: {}'.format(time_filter))"
   ]
  },
  {
   "cell_type": "markdown",
   "metadata": {},
   "source": [
    "### Reduce vs Iteration"
   ]
  },
  {
   "cell_type": "code",
   "execution_count": 13,
   "metadata": {},
   "outputs": [
    {
     "name": "stdout",
     "output_type": "stream",
     "text": [
      "  Iter: 0.4921754529932514\n",
      "Reduce: 1.214881541003706\n"
     ]
    }
   ],
   "source": [
    "# Iteration using list comprhension\n",
    "from functools import reduce\n",
    "\n",
    "time_iter = timeit('sum([c for c in range(1000) if c])', \n",
    "                           number=10000)\n",
    "\n",
    "# Using map function\n",
    "time_reduce = timeit('reduce(lambda a, b: a + b, range(1000))',\n",
    "                     'from functools import reduce', \n",
    "                     number=10000)\n",
    "\n",
    "# Print results\n",
    "print('  Iter: {}'.format(time_iter))\n",
    "print('Reduce: {}'.format(time_reduce))"
   ]
  }
 ],
 "metadata": {
  "kernelspec": {
   "display_name": "Python 3",
   "language": "python",
   "name": "python3"
  },
  "language_info": {
   "codemirror_mode": {
    "name": "ipython",
    "version": 3
   },
   "file_extension": ".py",
   "mimetype": "text/x-python",
   "name": "python",
   "nbconvert_exporter": "python",
   "pygments_lexer": "ipython3",
   "version": "3.6.5"
  }
 },
 "nbformat": 4,
 "nbformat_minor": 2
}
