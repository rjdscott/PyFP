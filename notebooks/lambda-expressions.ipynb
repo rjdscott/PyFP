{
 "cells": [
  {
   "cell_type": "markdown",
   "metadata": {},
   "source": [
    "# PyFP - Lambda Expressions\n",
    "A lambda function is a small anonymous function that can take any number of arguments, but can only have one expression.\n",
    "\n",
    "Lambda expressions are useful on their own but become far more interesting and powerful when parsed through `filter()`, `map()` or `reduce()` functions. \n",
    "\n",
    "When working with sequences these functions and expressions enable programmers to move away from iterating and take a cleaner functional approach.\n",
    "\n",
    "\n",
    "## Syntax\n",
    "```python\n",
    "lambda arguments : expression\n",
    ".filter(lambda x : x, sequence)\n",
    ".map(lambda x : x, sequence)\n",
    ".reduce(lambda x, y: x + y, sequence)\n",
    "```\n",
    "\n",
    "# `lambda x: x`\n",
    "Lets assign a lambda expression to a variable that will multiply itself by itself. Then, we will see what is returned if print the variable"
   ]
  },
  {
   "cell_type": "code",
   "execution_count": 1,
   "metadata": {},
   "outputs": [],
   "source": [
    "square = lambda x : x * x\n",
    "print(square)"
   ]
  },
  {
   "cell_type": "markdown",
   "metadata": {},
   "source": [
    "Lets now parse a number and see what is returned"
   ]
  },
  {
   "cell_type": "code",
   "execution_count": 2,
   "metadata": {},
   "outputs": [],
   "source": [
    "square(5)"
   ]
  },
  {
   "cell_type": "markdown",
   "metadata": {},
   "source": [
    "# `filter(func, seq)`\n",
    "For this example, lets take a list of intergers and using list comprehension return a list of even numbers, and using filter and lambda to return the odd numbers. "
   ]
  },
  {
   "cell_type": "code",
   "execution_count": 3,
   "metadata": {},
   "outputs": [],
   "source": [
    "numbers = [1,2,3,4,5,6,7,8,9,10]"
   ]
  },
  {
   "cell_type": "markdown",
   "metadata": {},
   "source": [
    "List comprehension iterates through each num in numbers and if the modulo of num and 2 equals zero, return True and assign to the evens variable."
   ]
  },
  {
   "cell_type": "code",
   "execution_count": 4,
   "metadata": {},
   "outputs": [
    {
     "name": "stdout",
     "output_type": "stream",
     "text": [
      "[2, 4, 6, 8, 10]\n"
     ]
    }
   ],
   "source": [
    "evens = [num for num in numbers if num % 2 == 0]\n",
    "print(evens)"
   ]
  },
  {
   "cell_type": "markdown",
   "metadata": {},
   "source": [
    "Now lets try to acheive the same with odd numbers but instead of iteration, we will use a lambda expression and utilise the `.filter()` method. This will only include values in the list that return a boolean value of `True`"
   ]
  },
  {
   "cell_type": "code",
   "execution_count": 5,
   "metadata": {},
   "outputs": [
    {
     "name": "stdout",
     "output_type": "stream",
     "text": [
      "[1, 3, 5, 7, 9]\n"
     ]
    }
   ],
   "source": [
    "odds = list(filter(lambda x: x % 2 == 1, numbers))\n",
    "print(odds)"
   ]
  },
  {
   "cell_type": "markdown",
   "metadata": {},
   "source": [
    "# `map(func, seq)`\n",
    "\n",
    "For this exammple, lets use a list containing weekdays."
   ]
  },
  {
   "cell_type": "code",
   "execution_count": 6,
   "metadata": {},
   "outputs": [],
   "source": [
    "weekdays = ['Monday','Tuesday','Wednesday','Thursday','Friday']"
   ]
  },
  {
   "cell_type": "markdown",
   "metadata": {},
   "source": [
    "Let's use **list comprehension** to return the `.lower()` of each element"
   ]
  },
  {
   "cell_type": "code",
   "execution_count": 7,
   "metadata": {},
   "outputs": [
    {
     "name": "stdout",
     "output_type": "stream",
     "text": [
      "['monday', 'tuesday', 'wednesday', 'thursday', 'friday']\n"
     ]
    }
   ],
   "source": [
    "weekdays_lower = [d.lower() for d in weekdays]\n",
    "print(weekdays_lower)"
   ]
  },
  {
   "cell_type": "markdown",
   "metadata": {},
   "source": [
    "lets use the `.map()` function to apply the string `.upper()` to each element using a lambda expression."
   ]
  },
  {
   "cell_type": "code",
   "execution_count": 8,
   "metadata": {},
   "outputs": [
    {
     "name": "stdout",
     "output_type": "stream",
     "text": [
      "['MONDAY', 'TUESDAY', 'WEDNESDAY', 'THURSDAY', 'FRIDAY']\n"
     ]
    }
   ],
   "source": [
    "weekdays_upper = list(map(lambda x: x.upper(), weekdays))\n",
    "print(weekdays_upper)"
   ]
  },
  {
   "cell_type": "markdown",
   "metadata": {},
   "source": [
    "# `reduce(lambda x, y : x + y, seq)`\n",
    "The `reduce()` function takes in an iterable, and then reduces the iterable to a single value. Reduce is different from `filter()` and `map()`, because `reduce()` takes in a function that has two input values."
   ]
  },
  {
   "cell_type": "code",
   "execution_count": 9,
   "metadata": {},
   "outputs": [
    {
     "name": "stdout",
     "output_type": "stream",
     "text": [
      "10\n"
     ]
    }
   ],
   "source": [
    "from functools import reduce\n",
    "\n",
    "values = [1, 2, 3, 4]\n",
    "\n",
    "summed = reduce(lambda a, b: a + b, values)\n",
    "print(summed)"
   ]
  },
  {
   "cell_type": "markdown",
   "metadata": {},
   "source": [
    "# Performance Tests\n",
    "Lets import pythons timeit module"
   ]
  },
  {
   "cell_type": "code",
   "execution_count": 10,
   "metadata": {},
   "outputs": [],
   "source": [
    "from timeit import timeit"
   ]
  },
  {
   "cell_type": "markdown",
   "metadata": {},
   "source": [
    "## Map vs Iteration"
   ]
  },
  {
   "cell_type": "code",
   "execution_count": 11,
   "metadata": {},
   "outputs": [
    {
     "name": "stdout",
     "output_type": "stream",
     "text": [
      "Iter: 1.1911820360110141\n",
      " Map: 0.8214310529874638\n",
      "\n",
      "Iteration tests\n",
      "22.7 µs ± 980 ns per loop (mean ± std. dev. of 7 runs, 10000 loops each)\n",
      "233 µs ± 4.99 µs per loop (mean ± std. dev. of 7 runs, 1000 loops each)\n",
      "2.48 ms ± 93.4 µs per loop (mean ± std. dev. of 7 runs, 100 loops each)\n",
      "\n",
      "Map tests\n",
      "17.7 µs ± 324 ns per loop (mean ± std. dev. of 7 runs, 100000 loops each)\n",
      "170 µs ± 5.24 µs per loop (mean ± std. dev. of 7 runs, 10000 loops each)\n",
      "2.01 ms ± 42.9 µs per loop (mean ± std. dev. of 7 runs, 100 loops each)\n"
     ]
    }
   ],
   "source": [
    "# Iteration using list comprhension\n",
    "time_iter1 = timeit('\"-\".join([str(n) for n in range(500)])', \n",
    "                           number=10000)\n",
    "\n",
    "# Using map function\n",
    "time_map1 = timeit('\"-\".join(map(str, range(500)))',\n",
    "                          number=10000)\n",
    "\n",
    "# Print results\n",
    "print('Iter: {}'.format(time_iter1))\n",
    "print(' Map: {}'.format(time_map1))\n",
    "\n",
    "print(\"\\nIteration tests\")\n",
    "%timeit \"-\".join([str(n) for n in range(100)])\n",
    "%timeit \"-\".join([str(n) for n in range(1000)])\n",
    "%timeit \"-\".join([str(n) for n in range(10000)])\n",
    "\n",
    "\n",
    "print(\"\\nMap tests\")\n",
    "%timeit \"-\".join(map(str, range(100)))\n",
    "%timeit \"-\".join(map(str, range(1000)))\n",
    "%timeit \"-\".join(map(str, range(10000)))"
   ]
  },
  {
   "cell_type": "markdown",
   "metadata": {},
   "source": [
    "## Filter vs Iteration"
   ]
  },
  {
   "cell_type": "code",
   "execution_count": 12,
   "metadata": {},
   "outputs": [
    {
     "name": "stdout",
     "output_type": "stream",
     "text": [
      "  Iter: 3.534126404003473\n",
      "Filter: 0.00519687301130034\n",
      "\n",
      "Iteration tests\n",
      "6 µs ± 136 ns per loop (mean ± std. dev. of 7 runs, 100000 loops each)\n",
      "68.8 µs ± 862 ns per loop (mean ± std. dev. of 7 runs, 10000 loops each)\n",
      "685 µs ± 10.1 µs per loop (mean ± std. dev. of 7 runs, 1000 loops each)\n",
      "\n",
      "Filter tests\n",
      "442 ns ± 10.9 ns per loop (mean ± std. dev. of 7 runs, 1000000 loops each)\n",
      "495 ns ± 9.88 ns per loop (mean ± std. dev. of 7 runs, 1000000 loops each)\n",
      "496 ns ± 2.36 ns per loop (mean ± std. dev. of 7 runs, 1000000 loops each)\n"
     ]
    }
   ],
   "source": [
    "# Iteration using list comprhension\n",
    "time_iter = timeit('[c for c in range(5000) if c % 2 ==0]', \n",
    "                           number=10000)\n",
    "\n",
    "# Using filter function\n",
    "time_filter = timeit('filter(lambda x: x % 2 == 0, range(5000))',\n",
    "                          number=10000)\n",
    "\n",
    "# Print results\n",
    "print('  Iter: {}'.format(time_iter))\n",
    "print('Filter: {}'.format(time_filter))\n",
    "\n",
    "print(\"\\nIteration tests\")\n",
    "%timeit [c for c in range(100) if c % 2 ==0]\n",
    "%timeit [c for c in range(1000) if c % 2 ==0]\n",
    "%timeit [c for c in range(10000) if c % 2 ==0]\n",
    "\n",
    "\n",
    "print(\"\\nFilter tests\")\n",
    "%timeit filter(lambda x: x % 2 == 0, range(100))\n",
    "%timeit filter(lambda x: x % 2 == 0, range(1000))\n",
    "%timeit filter(lambda x: x % 2 == 0, range(10000))"
   ]
  },
  {
   "cell_type": "markdown",
   "metadata": {},
   "source": [
    "## Reduce vs Iteration"
   ]
  },
  {
   "cell_type": "code",
   "execution_count": 13,
   "metadata": {},
   "outputs": [
    {
     "name": "stdout",
     "output_type": "stream",
     "text": [
      "  Iter: 0.504904291999992\n",
      "Reduce: 1.2448452509997878\n",
      "\n",
      "Iteration tests\n",
      "4.22 µs ± 198 ns per loop (mean ± std. dev. of 7 runs, 100000 loops each)\n",
      "39.4 µs ± 967 ns per loop (mean ± std. dev. of 7 runs, 10000 loops each)\n",
      "538 µs ± 21.2 µs per loop (mean ± std. dev. of 7 runs, 1000 loops each)\n",
      "\n",
      "Reduce tests\n",
      "11.4 µs ± 143 ns per loop (mean ± std. dev. of 7 runs, 100000 loops each)\n",
      "124 µs ± 1.65 µs per loop (mean ± std. dev. of 7 runs, 10000 loops each)\n",
      "1.21 ms ± 10.8 µs per loop (mean ± std. dev. of 7 runs, 1000 loops each)\n"
     ]
    }
   ],
   "source": [
    "# Iteration using list comprhension\n",
    "from functools import reduce\n",
    "\n",
    "time_iter = timeit('sum([c for c in range(1000) if c])', \n",
    "                           number=10000)\n",
    "\n",
    "# Using map function\n",
    "time_reduce = timeit('reduce(lambda a, b: a + b, range(1000))',\n",
    "                     'from functools import reduce', \n",
    "                     number=10000)\n",
    "\n",
    "# Print results\n",
    "print('  Iter: {}'.format(time_iter))\n",
    "print('Reduce: {}'.format(time_reduce))\n",
    "\n",
    "print(\"\\nIteration tests\")\n",
    "%timeit sum([c for c in range(100)])\n",
    "%timeit sum([c for c in range(1000)])\n",
    "%timeit sum([c for c in range(10000)])\n",
    "\n",
    "\n",
    "print(\"\\nReduce tests\")\n",
    "%timeit reduce(lambda a, b: a + b, range(100))\n",
    "%timeit reduce(lambda a, b: a + b, range(1000))\n",
    "%timeit reduce(lambda a, b: a + b, range(10000))"
   ]
  }
 ],
 "metadata": {
  "kernelspec": {
   "display_name": "Python 3",
   "language": "python",
   "name": "python3"
  },
  "language_info": {
   "codemirror_mode": {
    "name": "ipython",
    "version": 3
   },
   "file_extension": ".py",
   "mimetype": "text/x-python",
   "name": "python",
   "nbconvert_exporter": "python",
   "pygments_lexer": "ipython3",
   "version": "3.6.5"
  }
 },
 "nbformat": 4,
 "nbformat_minor": 2
}
