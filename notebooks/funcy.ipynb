{
 "cells": [
  {
   "cell_type": "markdown",
   "metadata": {},
   "source": [
    "# PyFP - The `funcy` Package\n",
    "\n",
    "A collection of fancy functional tools focused on practicality. \n",
    "\n",
    "**Documentation and further reading:**\n",
    "* docs: https://funcy.readthedocs.io/en/stable/overview.html\n",
    "* github: https://github.com/suor/funcy/\n",
    "\n",
    "\n",
    "## Installation\n",
    "``` bash\n",
    "$ pip install funcy\n",
    "```"
   ]
  }
 ],
 "metadata": {
  "kernelspec": {
   "display_name": "Python 3",
   "language": "python",
   "name": "python3"
  },
  "language_info": {
   "codemirror_mode": {
    "name": "ipython",
    "version": 3
   },
   "file_extension": ".py",
   "mimetype": "text/x-python",
   "name": "python",
   "nbconvert_exporter": "python",
   "pygments_lexer": "ipython3",
   "version": "3.6.5"
  }
 },
 "nbformat": 4,
 "nbformat_minor": 2
}
