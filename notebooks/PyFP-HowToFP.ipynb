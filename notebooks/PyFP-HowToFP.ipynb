{
 "cells": [
  {
   "cell_type": "markdown",
   "metadata": {},
   "source": [
    "# PyFP - How To FP\n",
    "From Pythons official website, a guide on how to be more functional.\n",
    "\n",
    "Original source:\n",
    "* https://docs.python.org/3.6/howto/functional.html\n",
    "\n",
    "## Preface\n",
    "I will attempt to take the notes form the above source and implement them in a jupyter notebook.\n",
    "\n",
    "## Introduction\n",
    "\n",
    "In this document, we’ll take a tour of Python’s features suitable for implementing programs in a functional style. After an introduction to the concepts of functional programming, we’ll look at language features such as iterators and generators and relevant library modules such as itertools and functools.\n",
    "\n",
    "This section explains the basic concept of functional programming; if you’re just interested in learning about Python language features, skip to the next section on Iterators.\n",
    "\n",
    "Programming languages support decomposing problems in several different ways:\n",
    "\n",
    "* Most programming languages are procedural: programs are lists of instructions that tell the computer what to do with the program’s input. C, Pascal, and even Unix shells are procedural languages.\n",
    "* In declarative languages, you write a specification that describes the problem to be solved, and the language implementation figures out how to perform the computation efficiently. SQL is the declarative language you’re most likely to be familiar with; a SQL query describes the data set you want to retrieve, and the SQL engine decides whether to scan tables or use indexes, which subclauses should be performed first, etc.\n",
    "* Object-oriented programs manipulate collections of objects. Objects have internal state and support methods that query or modify this internal state in some way. Smalltalk and Java are object-oriented languages. C++ and Python are languages that support object-oriented programming, but don’t force the use of object-oriented features.\n",
    "* Functional programming decomposes a problem into a set of functions. Ideally, functions only take inputs and produce outputs, and don’t have any internal state that affects the output produced for a given input. Well-known functional languages include the ML family (Standard ML, OCaml, and other variants) and Haskell.\n",
    "\n",
    "The designers of some computer languages choose to emphasize one particular approach to programming. This often makes it difficult to write programs that use a different approach. Other languages are multi-paradigm languages that support several different approaches. Lisp, C++, and Python are multi-paradigm; you can write programs or libraries that are largely procedural, object-oriented, or functional in all of these languages. In a large program, different sections might be written using different approaches; the GUI might be object-oriented while the processing logic is procedural or functional, for example.\n",
    "\n",
    "In a functional program, input flows through a set of functions. Each function operates on its input and produces some output. Functional style discourages functions with side effects that modify internal state or make other changes that aren’t visible in the function’s return value. Functions that have no side effects at all are called purely functional. Avoiding side effects means not using data structures that get updated as a program runs; every function’s output must only depend on its input.\n",
    "\n",
    "Some languages are very strict about purity and don’t even have assignment statements such as a=3 or c = a + b, but it’s difficult to avoid all side effects. Printing to the screen or writing to a disk file are side effects, for example. For example, in Python a call to the print() or time.sleep() function both return no useful value; they’re only called for their side effects of sending some text to the screen or pausing execution for a second.\n",
    "\n",
    "Python programs written in functional style usually won’t go to the extreme of avoiding all I/O or all assignments; instead, they’ll provide a functional-appearing interface but will use non-functional features internally. For example, the implementation of a function will still use assignments to local variables, but won’t modify global variables or have other side effects.\n",
    "\n",
    "Functional programming can be considered the opposite of object-oriented programming. Objects are little capsules containing some internal state along with a collection of method calls that let you modify this state, and programs consist of making the right set of state changes. Functional programming wants to avoid state changes as much as possible and works with data flowing between functions. In Python you might combine the two approaches by writing functions that take and return instances representing objects in your application (e-mail messages, transactions, etc.).\n",
    "\n",
    "Functional design may seem like an odd constraint to work under. Why should you avoid objects and side effects? There are theoretical and practical advantages to the functional style:\n",
    "\n",
    "* Formal provability.\n",
    "* Modularity.\n",
    "* Composability.\n",
    "* Ease of debugging and testing.\n",
    "\n",
    "## Formal provability\n",
    "A theoretical benefit is that it’s easier to construct a mathematical proof that a functional program is correct.\n",
    "\n",
    "For a long time researchers have been interested in finding ways to mathematically prove programs correct. This is different from testing a program on numerous inputs and concluding that its output is usually correct, or reading a program’s source code and concluding that the code looks right; the goal is instead a rigorous proof that a program produces the right result for all possible inputs.\n",
    "\n",
    "The technique used to prove programs correct is to write down invariants, properties of the input data and of the program’s variables that are always true. For each line of code, you then show that if invariants X and Y are true before the line is executed, the slightly different invariants X’ and Y’ are true after the line is executed. This continues until you reach the end of the program, at which point the invariants should match the desired conditions on the program’s output.\n",
    "\n",
    "Functional programming’s avoidance of assignments arose because assignments are difficult to handle with this technique; assignments can break invariants that were true before the assignment without producing any new invariants that can be propagated onward.\n",
    "\n",
    "Unfortunately, proving programs correct is largely impractical and not relevant to Python software. Even trivial programs require proofs that are several pages long; the proof of correctness for a moderately complicated program would be enormous, and few or none of the programs you use daily (the Python interpreter, your XML parser, your web browser) could be proven correct. Even if you wrote down or generated a proof, there would then be the question of verifying the proof; maybe there’s an error in it, and you wrongly believe you’ve proved the program correct.\n",
    "\n",
    "## Modularity\n",
    "A more practical benefit of functional programming is that it forces you to break apart your problem into small pieces. Programs are more modular as a result. It’s easier to specify and write a small function that does one thing than a large function that performs a complicated transformation. Small functions are also easier to read and to check for errors.\n",
    "\n",
    "## Ease of debugging and testing\n",
    "Testing and debugging a functional-style program is easier.\n",
    "\n",
    "Debugging is simplified because functions are generally small and clearly specified. When a program doesn’t work, each function is an interface point where you can check that the data are correct. You can look at the intermediate inputs and outputs to quickly isolate the function that’s responsible for a bug.\n",
    "\n",
    "Testing is easier because each function is a potential subject for a unit test. Functions don’t depend on system state that needs to be replicated before running a test; instead you only have to synthesize the right input and then check that the output matches expectations.\n",
    "\n",
    "## Composability\n",
    "As you work on a functional-style program, you’ll write a number of functions with varying inputs and outputs. Some of these functions will be unavoidably specialized to a particular application, but others will be useful in a wide variety of programs. For example, a function that takes a directory path and returns all the XML files in the directory, or a function that takes a filename and returns its contents, can be applied to many different situations.\n",
    "\n",
    "Over time you’ll form a personal library of utilities. Often you’ll assemble new programs by arranging existing functions in a new configuration and writing a few functions specialized for the current task."
   ]
  },
  {
   "cell_type": "markdown",
   "metadata": {},
   "source": [
    "# Iterators\n",
    "I’ll start by looking at a Python language feature that’s an important foundation for writing functional-style programs: iterators.\n",
    "\n",
    "An iterator is an object representing a stream of data; this object returns the data one element at a time. A Python iterator must support a method called `__next__()` that takes no arguments and always returns the next element of the stream. If there are no more elements in the stream, `__next__()` must raise the StopIteration exception. Iterators don’t have to be finite, though; it’s perfectly reasonable to write an iterator that produces an infinite stream of data.\n",
    "\n",
    "The built-in `iter()` function takes an arbitrary object and tries to return an iterator that will return the object’s contents or elements, raising TypeError if the object doesn’t support iteration. Several of Python’s built-in data types support iteration, the most common being lists and dictionaries. An object is called iterable if you can get an iterator for it.\n",
    "\n",
    "You can experiment with the iteration interface manually:"
   ]
  },
  {
   "cell_type": "code",
   "execution_count": 1,
   "metadata": {},
   "outputs": [
    {
     "data": {
      "text/plain": [
       "<list_iterator at 0x106f329e8>"
      ]
     },
     "execution_count": 1,
     "metadata": {},
     "output_type": "execute_result"
    }
   ],
   "source": [
    "L = [1, 2, 3]\n",
    "it = iter(L)\n",
    "it  #doctest: +ELLIPSIS"
   ]
  },
  {
   "cell_type": "code",
   "execution_count": 2,
   "metadata": {},
   "outputs": [
    {
     "name": "stdout",
     "output_type": "stream",
     "text": [
      "1\n",
      "2\n"
     ]
    }
   ],
   "source": [
    "print(it.__next__())  # same as next(it)\n",
    "print(next(it))"
   ]
  },
  {
   "cell_type": "code",
   "execution_count": 3,
   "metadata": {},
   "outputs": [
    {
     "name": "stdout",
     "output_type": "stream",
     "text": [
      "3\n"
     ]
    }
   ],
   "source": [
    "print(next(it))"
   ]
  },
  {
   "cell_type": "code",
   "execution_count": 4,
   "metadata": {},
   "outputs": [
    {
     "ename": "StopIteration",
     "evalue": "",
     "output_type": "error",
     "traceback": [
      "\u001b[0;31m---------------------------------------------------------------------------\u001b[0m",
      "\u001b[0;31mStopIteration\u001b[0m                             Traceback (most recent call last)",
      "\u001b[0;32m<ipython-input-4-4d0222393be1>\u001b[0m in \u001b[0;36m<module>\u001b[0;34m()\u001b[0m\n\u001b[0;32m----> 1\u001b[0;31m \u001b[0mprint\u001b[0m\u001b[0;34m(\u001b[0m\u001b[0mnext\u001b[0m\u001b[0;34m(\u001b[0m\u001b[0mit\u001b[0m\u001b[0;34m)\u001b[0m\u001b[0;34m)\u001b[0m\u001b[0;34m\u001b[0m\u001b[0m\n\u001b[0m",
      "\u001b[0;31mStopIteration\u001b[0m: "
     ]
    }
   ],
   "source": [
    "print(next(it))"
   ]
  },
  {
   "cell_type": "markdown",
   "metadata": {},
   "source": [
    "Python expects iterable objects in several different contexts, the most important being the for statement. In the statement for X in Y, Y must be an iterator or some object for which iter() can create an iterator. These two statements are equivalent:\n",
    "``` python\n",
    "for i in iter(obj):\n",
    "    print(i)\n",
    "\n",
    "for i in obj:\n",
    "    print(i)\n",
    "```\n",
    "\n",
    "Iterators can be materialized as lists or tuples by using the list() or tuple() constructor functions:\n",
    "``` python\n",
    ">>> L = [1, 2, 3]\n",
    ">>> iterator = iter(L)\n",
    ">>> t = tuple(iterator)\n",
    ">>> t\n",
    "(1, 2, 3)\n",
    "```\n",
    "Sequence unpacking also supports iterators: if you know an iterator will return N elements, you can unpack them into an N-tuple:\n",
    "``` python\n",
    ">>> L = [1, 2, 3]\n",
    ">>> iterator = iter(L)\n",
    ">>> a, b, c = iterator\n",
    ">>> a, b, c\n",
    "(1, 2, 3)\n",
    "```"
   ]
  },
  {
   "cell_type": "markdown",
   "metadata": {},
   "source": [
    "Data Types That Support Iterators\n",
    "We’ve already seen how lists and tuples support iterators. In fact, any Python sequence type, such as strings, will automatically support creation of an iterator.\n",
    "\n",
    "Calling iter() on a dictionary returns an iterator that will loop over the dictionary’s keys:"
   ]
  },
  {
   "cell_type": "code",
   "execution_count": 5,
   "metadata": {},
   "outputs": [
    {
     "name": "stdout",
     "output_type": "stream",
     "text": [
      "Jan 1\n",
      "Feb 2\n",
      "Mar 3\n",
      "Apr 4\n",
      "May 5\n",
      "Jun 6\n",
      "Jul 7\n",
      "Aug 8\n",
      "Sep 9\n",
      "Oct 10\n",
      "Nov 11\n",
      "Dec 12\n"
     ]
    }
   ],
   "source": [
    "m = {'Jan': 1, 'Feb': 2, 'Mar': 3, 'Apr': 4, 'May': 5, 'Jun': 6,\n",
    "     'Jul': 7, 'Aug': 8, 'Sep': 9, 'Oct': 10, 'Nov': 11, 'Dec': 12}\n",
    "\n",
    "for key in m:  \n",
    "    print(key, m[key])"
   ]
  },
  {
   "cell_type": "markdown",
   "metadata": {},
   "source": [
    "# Generator expressions and list comprehensions\n",
    "Two common operations on an iterator’s output are 1) performing some operation for every element, 2) selecting a subset of elements that meet some condition. For example, given a list of strings, you might want to strip off trailing whitespace from each line or extract all the strings containing a given substring.\n",
    "\n",
    "List comprehensions and generator expressions (short form: “listcomps” and “genexps”) are a concise notation for such operations, borrowed from the functional programming language Haskell (https://www.haskell.org/). You can strip all the whitespace from a stream of strings with the following code:"
   ]
  },
  {
   "cell_type": "code",
   "execution_count": 6,
   "metadata": {},
   "outputs": [
    {
     "name": "stdout",
     "output_type": "stream",
     "text": [
      "['line 1', 'line 2']\n",
      "['line 1', 'line 2']\n"
     ]
    }
   ],
   "source": [
    "line_list = ['  line 1\\n', 'line 2  \\n']\n",
    "\n",
    "# Generator expression -- returns iterator\n",
    "stripped_iter = (line.strip() for line in line_list)\n",
    "print(list(stripped_iter))\n",
    "\n",
    "# List comprehension -- returns list\n",
    "stripped_list = [line.strip() for line in line_list]\n",
    "print(stripped_list)"
   ]
  },
  {
   "cell_type": "markdown",
   "metadata": {},
   "source": [
    "You can select only certain elements by adding an \"if\" condition:\n",
    "\n",
    "```python\n",
    "stripped_list = [line.strip() for line in line_list\n",
    "                 if line != \"\"]\n",
    "```"
   ]
  },
  {
   "cell_type": "markdown",
   "metadata": {},
   "source": [
    "# Generators\n",
    "Generators are a special class of functions that simplify the task of writing iterators. Regular functions compute a value and return it, but generators return an iterator that returns a stream of values.\n",
    "\n",
    "You’re doubtless familiar with how regular function calls work in Python or C. When you call a function, it gets a private namespace where its local variables are created. When the function reaches a `return` statement, the local variables are destroyed and the value is returned to the caller. A later call to the same function creates a new private namespace and a fresh set of local variables. But, what if the local variables weren’t thrown away on exiting a function? What if you could later resume the function where it left off? This is what generators provide; they can be thought of as resumable functions.\n",
    "\n",
    "Here’s the simplest example of a generator function:"
   ]
  },
  {
   "cell_type": "code",
   "execution_count": 7,
   "metadata": {},
   "outputs": [],
   "source": [
    "def generate_ints(N):\n",
    "    for i in range(N):\n",
    "        yield i"
   ]
  },
  {
   "cell_type": "markdown",
   "metadata": {},
   "source": [
    "Any function containing a `yield` keyword is a generator function; this is detected by Python’s `bytecode` compiler which compiles the function specially as a result.\n",
    "\n",
    "When you call a generator function, it doesn’t return a single value; instead it returns a generator object that supports the iterator protocol. On executing the `yield` expression, the generator outputs the value of `i`, similar to a `return` statement. The big difference between `yield` and a `return` statement is that on reaching a `yield` the generator’s state of execution is suspended and local variables are preserved. On the next call to the generator’s `__next__()` method, the function will resume executing.\n",
    "\n",
    "Here’s a sample usage of the `generate_ints()` generator:\n",
    "``` python\n",
    ">>> gen = generate_ints(3)\n",
    ">>> gen  #doctest: +ELLIPSIS\n",
    "<generator object generate_ints at ...>\n",
    ">>> next(gen)\n",
    "0\n",
    ">>> next(gen)\n",
    "1\n",
    ">>> next(gen)\n",
    "2\n",
    ">>> next(gen)\n",
    "Traceback (most recent call last):\n",
    "  File \"stdin\", line 1, in <module>\n",
    "  File \"stdin\", line 2, in generate_ints\n",
    "StopIteration\n",
    "```"
   ]
  },
  {
   "cell_type": "markdown",
   "metadata": {},
   "source": [
    "The test suite included with Python’s library, Lib/test/test_generators.py, contains a number of more interesting examples. Here’s one generator that implements an in-order traversal of a tree using generators recursively."
   ]
  },
  {
   "cell_type": "code",
   "execution_count": 8,
   "metadata": {},
   "outputs": [],
   "source": [
    "# A recursive generator that generates Tree leaves in in-order.\n",
    "def inorder(t):\n",
    "    if t:\n",
    "        for x in inorder(t.left):\n",
    "            yield x\n",
    "\n",
    "        yield t.label\n",
    "\n",
    "        for x in inorder(t.right):\n",
    "            yield x"
   ]
  },
  {
   "cell_type": "markdown",
   "metadata": {},
   "source": [
    "Two other examples in test_generators.py produce solutions for the N-Queens problem (placing N queens on an NxN chess board so that no queen threatens another) and the Knight’s Tour (finding a route that takes a knight to every square of an NxN chessboard without visiting any square twice)."
   ]
  },
  {
   "cell_type": "markdown",
   "metadata": {},
   "source": [
    "# Built-in functions\n",
    "Let’s look in more detail at built-in functions often used with iterators.\n",
    "\n",
    "Two of Python’s built-in functions, `map()` and `filter()` duplicate the features of generator expressions:\n",
    "\n",
    "`map(f, iterA, iterB, ...)` returns an iterator over the sequence"
   ]
  },
  {
   "cell_type": "code",
   "execution_count": 9,
   "metadata": {},
   "outputs": [
    {
     "name": "stdout",
     "output_type": "stream",
     "text": [
      "['SENTENCE', 'FRAGMENT']\n",
      "['SENTENCE', 'FRAGMENT']\n"
     ]
    }
   ],
   "source": [
    "def upper(s):\n",
    "    return s.upper()\n",
    "\n",
    "# map function\n",
    "print(list(map(upper, ['sentence', 'fragment'])))\n",
    "\n",
    "# list comprehension\n",
    "print([upper(s) for s in ['sentence', 'fragment']])"
   ]
  },
  {
   "cell_type": "markdown",
   "metadata": {},
   "source": [
    "`filter(predicate, iter)` returns an iterator over all the sequence elements that meet a certain condition, and is similarly duplicated by list comprehensions. A **predicate** is a function that returns the truth value of some condition; for use with `filter()`, the predicate must take a single value."
   ]
  },
  {
   "cell_type": "code",
   "execution_count": 10,
   "metadata": {},
   "outputs": [
    {
     "name": "stdout",
     "output_type": "stream",
     "text": [
      "[0, 2, 4, 6, 8]\n",
      "[0, 2, 4, 6, 8]\n"
     ]
    }
   ],
   "source": [
    "def is_even(x):\n",
    "    return (x % 2) == 0\n",
    "\n",
    "# filter function\n",
    "print(list(filter(is_even, range(10))))\n",
    "\n",
    "# list comprehension\n",
    "print(list(x for x in range(10) if is_even(x)))\n"
   ]
  },
  {
   "cell_type": "markdown",
   "metadata": {},
   "source": [
    "`enumerate(iter, start=0)` counts off the elements in the iterable returning 2-tuples containing the count (from start) and each element."
   ]
  },
  {
   "cell_type": "code",
   "execution_count": 11,
   "metadata": {},
   "outputs": [
    {
     "name": "stdout",
     "output_type": "stream",
     "text": [
      "(0, 'subject')\n",
      "(1, 'verb')\n",
      "(2, 'object')\n"
     ]
    }
   ],
   "source": [
    "for item in enumerate(['subject', 'verb', 'object']):\n",
    "    print(item)"
   ]
  },
  {
   "cell_type": "markdown",
   "metadata": {},
   "source": [
    "`enumerate()` is often used when looping through a list and recording the indexes at which certain conditions are met:\n",
    "\n",
    "``` python\n",
    "f = open('data.txt', 'r')\n",
    "for i, line in enumerate(f):\n",
    "    if line.strip() == '':\n",
    "        print('Blank line at line #%i' % i)\n",
    "```"
   ]
  },
  {
   "cell_type": "markdown",
   "metadata": {},
   "source": [
    "`sorted(iterable, key=None, reverse=False)` collects all the elements of the iterable into a list, sorts the list, and returns the sorted result. The key and reverse arguments are passed through to the constructed list’s `sort()` method."
   ]
  },
  {
   "cell_type": "code",
   "execution_count": 12,
   "metadata": {},
   "outputs": [
    {
     "name": "stdout",
     "output_type": "stream",
     "text": [
      "[5998, 5129, 4066, 3853, 3421, 8600, 8999, 1407]\n",
      "[1407, 3421, 3853, 4066, 5129, 5998, 8600, 8999]\n",
      "[8999, 8600, 5998, 5129, 4066, 3853, 3421, 1407]\n"
     ]
    }
   ],
   "source": [
    "import random\n",
    "# Generate 8 random numbers between [0, 10000)\n",
    "rand_list = random.sample(range(10000), 8)\n",
    "\n",
    "print(rand_list)\n",
    "print(sorted(rand_list))\n",
    "print(sorted(rand_list, reverse=True))"
   ]
  },
  {
   "cell_type": "markdown",
   "metadata": {},
   "source": [
    "(For a more detailed discussion of sorting, see the [Sorting HOW TO](https://docs.python.org/3.6/howto/sorting.html#sortinghowto).)"
   ]
  },
  {
   "cell_type": "markdown",
   "metadata": {},
   "source": [
    "`zip(iterA, iterB, ...)` takes one element from each iterable and returns them in a tuple:"
   ]
  },
  {
   "cell_type": "code",
   "execution_count": 13,
   "metadata": {},
   "outputs": [
    {
     "name": "stdout",
     "output_type": "stream",
     "text": [
      "[('a', 1), ('b', 2), ('c', 3)]\n"
     ]
    }
   ],
   "source": [
    "print(list(zip(['a', 'b', 'c'], (1, 2, 3))))"
   ]
  },
  {
   "cell_type": "markdown",
   "metadata": {},
   "source": [
    "It doesn’t construct an in-memory list and exhaust all the input iterators before returning; instead tuples are constructed and returned only if they’re requested. (The technical term for this behaviour is lazy evaluation.)\n",
    "\n",
    "This iterator is intended to be used with iterables that are all of the same length. If the iterables are of different lengths, the resulting stream will be the same length as the shortest iterable."
   ]
  },
  {
   "cell_type": "code",
   "execution_count": 14,
   "metadata": {},
   "outputs": [
    {
     "name": "stdout",
     "output_type": "stream",
     "text": [
      "[('a', 1), ('b', 2)]\n"
     ]
    }
   ],
   "source": [
    "print(list(zip(['a', 'b'], (1, 2, 3))))"
   ]
  },
  {
   "cell_type": "markdown",
   "metadata": {},
   "source": [
    "You should avoid doing this, though, because an element may be taken from the longer iterators and discarded. This means you can’t go on to use the iterators further because you risk skipping a discarded element.\n",
    "\n",
    "# The itertools module\n",
    "The itertools module contains a number of commonly-used iterators as well as functions for combining several iterators. This section will introduce the module’s contents by showing small examples.\n",
    "\n",
    "The module’s functions fall into a few broad classes:\n",
    "\n",
    "* Functions that create a new iterator based on an existing iterator.\n",
    "* Functions for treating an iterator’s elements as function arguments.\n",
    "* Functions for selecting portions of an iterator’s output.\n",
    "* A function for grouping an iterator’s output.\n",
    "\n",
    "## Creating new iterators\n",
    "itertools.count(start, step) returns an infinite stream of evenly spaced values. You can optionally supply the starting number, which defaults to 0, and the interval between numbers, which defaults to 1:\n",
    "```python\n",
    "itertools.count() =>\n",
    "  0, 1, 2, 3, 4, 5, 6, 7, 8, 9, ...\n",
    "itertools.count(10) =>\n",
    "  10, 11, 12, 13, 14, 15, 16, 17, 18, 19, ...\n",
    "itertools.count(10, 5) =>\n",
    "  10, 15, 20, 25, 30, 35, 40, 45, 50, 55, ...\n",
    "```\n",
    "\n",
    "`itertools.cycle(iter)` saves a copy of the contents of a provided iterable and returns a new iterator that returns its elements from first to last. The new iterator will repeat these elements infinitely.\n",
    "\n",
    "```python\n",
    "itertools.cycle([1, 2, 3, 4, 5]) =>\n",
    "  1, 2, 3, 4, 5, 1, 2, 3, 4, 5, ...\n",
    "```\n",
    "`itertools.repeat(elem, [n])` returns the provided element n times, or returns the element endlessly if n is not provided.\n",
    "\n",
    "```python\n",
    "itertools.repeat('abc') =>\n",
    "  abc, abc, abc, abc, abc, abc, abc, abc, abc, abc, ...\n",
    "itertools.repeat('abc', 5) =>\n",
    "  abc, abc, abc, abc, abc\n",
    "```\n",
    "`itertools.chain(iterA, iterB, ...)` takes an arbitrary number of iterables as input, and returns all the elements of the first iterator, then all the elements of the second, and so on, until all of the iterables have been exhausted.\n",
    "\n",
    "```python\n",
    "itertools.chain(['a', 'b', 'c'], (1, 2, 3)) =>\n",
    "  a, b, c, 1, 2, 3\n",
    "```\n",
    "\n",
    "`itertools.islice(iter, [start], stop, [step])` returns a stream that’s a slice of the iterator. With a single stop argument, it will return the first stop elements. If you supply a starting index, you’ll get stop-start elements, and if you supply a value for step, elements will be skipped accordingly. Unlike Python’s string and list slicing, you can’t use negative values for start, stop, or step.\n",
    "\n",
    "```python\n",
    "itertools.islice(range(10), 8) =>\n",
    "  0, 1, 2, 3, 4, 5, 6, 7\n",
    "itertools.islice(range(10), 2, 8) =>\n",
    "  2, 3, 4, 5, 6, 7\n",
    "itertools.islice(range(10), 2, 8, 2) =>\n",
    "  2, 4, 6\n",
    "```\n",
    "\n",
    "`itertools.tee(iter, [n])` replicates an iterator; it returns n independent iterators that will all return the contents of the source iterator. If you don’t supply a value for n, the default is 2. Replicating iterators requires saving some of the contents of the source iterator, so this can consume significant memory if the iterator is large and one of the new iterators is consumed more than the others.\n",
    "\n",
    "```python\n",
    "itertools.tee( itertools.count() ) =>\n",
    "   iterA, iterB\n",
    "\n",
    "where iterA ->\n",
    "   0, 1, 2, 3, 4, 5, 6, 7, 8, 9, ...\n",
    "\n",
    "and   iterB ->\n",
    "   0, 1, 2, 3, 4, 5, 6, 7, 8, 9, ...\n",
    "```\n",
    "\n",
    "## Calling functions on elements\n",
    "The `operator` module contains a set of functions corresponding to Python’s operators. Some examples are `operator.add(a, b)` (adds two values), `operator.ne(a, b)` (same as a != b), and `operator.attrgetter('id')` (returns a callable that fetches the .id attribute).\n",
    "\n",
    "`itertools.starmap(func, iter)` assumes that the iterable will return a stream of tuples, and calls func using these tuples as the arguments:"
   ]
  },
  {
   "cell_type": "code",
   "execution_count": 15,
   "metadata": {},
   "outputs": [
    {
     "name": "stdout",
     "output_type": "stream",
     "text": [
      "['/bin/python', '/usr/bin/java', '/usr/bin/perl', '/usr/bin/ruby']\n"
     ]
    }
   ],
   "source": [
    "import itertools\n",
    "import os\n",
    "paths = itertools.starmap(os.path.join,\n",
    "                  [('/bin', 'python'), ('/usr', 'bin', 'java'),\n",
    "                   ('/usr', 'bin', 'perl'), ('/usr', 'bin', 'ruby')])\n",
    "print(list(paths))"
   ]
  },
  {
   "cell_type": "markdown",
   "metadata": {},
   "source": [
    "## Selecting elements\n",
    "Another group of functions chooses a subset of an iterator’s elements based on a predicate.\n",
    "\n",
    "`itertools.filterfalse(predicate, iter)` is the opposite of `filter()`, returning all elements for which the predicate returns false:\n",
    "\n",
    "```python\n",
    "itertools.filterfalse(is_even, itertools.count()) =>\n",
    "  1, 3, 5, 7, 9, 11, 13, 15, ...\n",
    "```\n",
    "\n",
    "itertools.takewhile(predicate, iter) returns elements for as long as the predicate returns true. Once the predicate returns false, the iterator will signal the end of its results.\n",
    "\n",
    "```python\n",
    "def less_than_10(x):\n",
    "    return x < 10\n",
    "\n",
    "itertools.takewhile(less_than_10, itertools.count()) =>\n",
    "  0, 1, 2, 3, 4, 5, 6, 7, 8, 9\n",
    "\n",
    "itertools.takewhile(is_even, itertools.count()) =>\n",
    "  0\n",
    "\n",
    "```\n",
    "`itertools.dropwhile(predicate, iter)` discards elements while the predicate returns true, and then returns the rest of the iterable’s results.\n",
    "\n",
    "```python\n",
    "itertools.dropwhile(less_than_10, itertools.count()) =>\n",
    "  10, 11, 12, 13, 14, 15, 16, 17, 18, 19, ...\n",
    "\n",
    "itertools.dropwhile(is_even, itertools.count()) =>\n",
    "  1, 2, 3, 4, 5, 6, 7, 8, 9, 10, ...\n",
    "```\n",
    "\n",
    "`itertools.compress(data, selectors)` takes two iterators and returns only those elements of data for which the corresponding element of selectors is true, stopping whenever either one is exhausted:\n",
    "\n",
    "```python\n",
    "itertools.compress([1, 2, 3, 4, 5], [True, True, False, False, True]) =>\n",
    "   1, 2, 5\n",
    "```"
   ]
  },
  {
   "cell_type": "markdown",
   "metadata": {},
   "source": [
    "## Combinatoric functions\n",
    "The `itertools.combinations(iterable, r)` returns an iterator giving all possible r-tuple combinations of the elements contained in iterable.\n",
    "\n",
    "```python\n",
    "itertools.combinations([1, 2, 3, 4, 5], 2) =>\n",
    "  (1, 2), (1, 3), (1, 4), (1, 5),\n",
    "  (2, 3), (2, 4), (2, 5),\n",
    "  (3, 4), (3, 5),\n",
    "  (4, 5)\n",
    "\n",
    "itertools.combinations([1, 2, 3, 4, 5], 3) =>\n",
    "  (1, 2, 3), (1, 2, 4), (1, 2, 5), (1, 3, 4), (1, 3, 5), (1, 4, 5),\n",
    "  (2, 3, 4), (2, 3, 5), (2, 4, 5),\n",
    "  (3, 4, 5)\n",
    "```\n",
    "    \n",
    "The elements within each tuple remain in the same order as iterable returned them. For example, the number 1 is always before 2, 3, 4, or 5 in the examples above. A similar function, `itertools.permutations(iterable, r=None)`, removes this constraint on the order, returning all possible arrangements of length r:\n",
    "\n",
    "```python\n",
    "itertools.permutations([1, 2, 3, 4, 5], 2) =>\n",
    "  (1, 2), (1, 3), (1, 4), (1, 5),\n",
    "  (2, 1), (2, 3), (2, 4), (2, 5),\n",
    "  (3, 1), (3, 2), (3, 4), (3, 5),\n",
    "  (4, 1), (4, 2), (4, 3), (4, 5),\n",
    "  (5, 1), (5, 2), (5, 3), (5, 4)\n",
    "\n",
    "itertools.permutations([1, 2, 3, 4, 5]) =>\n",
    "  (1, 2, 3, 4, 5), (1, 2, 3, 5, 4), (1, 2, 4, 3, 5),\n",
    "  ...\n",
    "  (5, 4, 3, 2, 1)\n",
    "```\n",
    "\n",
    "If you don’t supply a value for r the length of the iterable is used, meaning that all the elements are permuted.\n",
    "\n",
    "Note that these functions produce all of the possible combinations by position and don’t require that the contents of iterable are unique:\n",
    "\n",
    "```python\n",
    "itertools.permutations('aba', 3) =>\n",
    "  ('a', 'b', 'a'), ('a', 'a', 'b'), ('b', 'a', 'a'),\n",
    "  ('b', 'a', 'a'), ('a', 'a', 'b'), ('a', 'b', 'a')\n",
    "```\n",
    "\n",
    "The `itertools.combinations_with_replacement(iterable, r)` function relaxes a different constraint: elements can be repeated within a single tuple. Conceptually an element is selected for the first position of each tuple and then is replaced before the second element is selected.\n",
    "\n",
    "```python\n",
    "itertools.combinations_with_replacement([1, 2, 3, 4, 5], 2) =>\n",
    "  (1, 1), (1, 2), (1, 3), (1, 4), (1, 5),\n",
    "  (2, 2), (2, 3), (2, 4), (2, 5),\n",
    "  (3, 3), (3, 4), (3, 5),\n",
    "  (4, 4), (4, 5),\n",
    "  (5, 5)\n",
    "```\n",
    "\n",
    "## Grouping elements\n",
    "The last function I’ll discuss, `itertools.groupby(iter, key_func=None)`, is the most complicated. key_func(elem) is a function that can compute a key value for each element returned by the iterable. If you don’t supply a key function, the key is simply each element itself.\n",
    "\n",
    "`groupby()` collects all the consecutive elements from the underlying iterable that have the same key value, and returns a stream of 2-tuples containing a key value and an iterator for the elements with that key.\n",
    " "
   ]
  },
  {
   "cell_type": "code",
   "execution_count": 16,
   "metadata": {},
   "outputs": [
    {
     "name": "stdout",
     "output_type": "stream",
     "text": [
      "[('AL', <itertools._grouper object at 0x106fcc400>), ('AK', <itertools._grouper object at 0x106fcc438>), ('AZ', <itertools._grouper object at 0x106fcc470>)]\n"
     ]
    }
   ],
   "source": [
    "city_list = [('Decatur', 'AL'), ('Huntsville', 'AL'), ('Selma', 'AL'),\n",
    "             ('Anchorage', 'AK'), ('Nome', 'AK'),\n",
    "             ('Flagstaff', 'AZ'), ('Phoenix', 'AZ'), ('Tucson', 'AZ')\n",
    "            ]\n",
    "\n",
    "def get_state(city_state):\n",
    "    return city_state[1]\n",
    "\n",
    "print(list(itertools.groupby(city_list, get_state)))"
   ]
  },
  {
   "cell_type": "markdown",
   "metadata": {},
   "source": [
    "`groupby()` assumes that the underlying iterable’s contents will already be sorted based on the key. Note that the returned iterators also use the underlying iterable, so you have to consume the results of iterator-1 before requesting iterator-2 and its corresponding key.\n",
    "\n",
    "# The functools module\n",
    "The `functools` module in Python 2.5 contains some higher-order functions. A higher-order function takes one or more functions as input and returns a new function. The most useful tool in this module is the `functools.partial()` function.\n",
    "\n",
    "For programs written in a functional style, you’ll sometimes want to construct variants of existing functions that have some of the parameters filled in. Consider a Python function `f(a, b, c)`; you may wish to create a new function `g(b, c)` that’s equivalent to `f(1, b, c)`; you’re filling in a value for one of `f()`’s parameters. This is called “partial function application”.\n",
    "\n",
    "The constructor for `partial()` takes the arguments `(function, arg1, arg2, ..., kwarg1=value1, kwarg2=value2)`. The resulting object is callable, so you can just call it to invoke function with the filled-in arguments.\n",
    "\n",
    "Here’s a small but realistic example:"
   ]
  },
  {
   "cell_type": "code",
   "execution_count": 17,
   "metadata": {},
   "outputs": [
    {
     "name": "stdout",
     "output_type": "stream",
     "text": [
      "server: Unable to open socket\n"
     ]
    }
   ],
   "source": [
    "import functools\n",
    "\n",
    "def log(message, subsystem):\n",
    "    \"\"\"Write the contents of 'message' to the specified subsystem.\"\"\"\n",
    "    print('%s: %s' % (subsystem, message))\n",
    "    ...\n",
    "\n",
    "server_log = functools.partial(log, subsystem='server')\n",
    "server_log('Unable to open socket')"
   ]
  },
  {
   "cell_type": "markdown",
   "metadata": {},
   "source": [
    "`functools.reduce(func, iter, [initial_value])` cumulatively performs an operation on all the iterable’s elements and, therefore, can’t be applied to infinite iterables. func must be a function that takes two elements and returns a single value. `functools.reduce()` takes the first two elements A and B returned by the iterator and calculates `func(A, B)`. It then requests the third element, C, calculates `func(func(A, B), C)`, combines this result with the fourth element returned, and continues until the iterable is exhausted. If the iterable returns no values at all, a `TypeError` exception is raised. If the initial value is supplied, it’s used as a starting point and `func(initial_value, A`) is the first calculation."
   ]
  },
  {
   "cell_type": "code",
   "execution_count": 18,
   "metadata": {},
   "outputs": [
    {
     "name": "stdout",
     "output_type": "stream",
     "text": [
      "ABBC\n",
      "6\n",
      "1\n"
     ]
    }
   ],
   "source": [
    "import operator, functools\n",
    "\n",
    "print(functools.reduce(operator.concat, ['A', 'BB', 'C']))\n",
    "print(functools.reduce(operator.mul, [1, 2, 3], 1))\n",
    "print(functools.reduce(operator.mul, [], 1))"
   ]
  },
  {
   "cell_type": "markdown",
   "metadata": {},
   "source": [
    "If you use `operator.add()` with `functools.reduce()`, you’ll add up all the elements of the iterable. This case is so common that there’s a special built-in called `sum()` to compute it:"
   ]
  },
  {
   "cell_type": "code",
   "execution_count": 19,
   "metadata": {},
   "outputs": [
    {
     "name": "stdout",
     "output_type": "stream",
     "text": [
      "10\n",
      "10\n"
     ]
    }
   ],
   "source": [
    "import functools, operator\n",
    "print(functools.reduce(operator.add, [1, 2, 3, 4], 0))\n",
    "print(sum([1, 2, 3, 4]))"
   ]
  },
  {
   "cell_type": "markdown",
   "metadata": {},
   "source": [
    "For many uses of `functools.reduce()`, though, it can be clearer to just write the obvious for loop:"
   ]
  },
  {
   "cell_type": "code",
   "execution_count": 20,
   "metadata": {},
   "outputs": [
    {
     "name": "stdout",
     "output_type": "stream",
     "text": [
      "6\n",
      "6\n"
     ]
    }
   ],
   "source": [
    "import functools\n",
    "\n",
    "# Instead of:\n",
    "product = functools.reduce(operator.mul, [1, 2, 3], 1)\n",
    "print(product)\n",
    "\n",
    "# You can write:\n",
    "product = 1\n",
    "for i in [1, 2, 3]:\n",
    "    product *= i\n",
    "\n",
    "print(product)"
   ]
  },
  {
   "cell_type": "markdown",
   "metadata": {},
   "source": [
    "A related function is `itertools.accumulate(iterable, func=operator.add)`. It performs the same calculation, but instead of returning only the final result, `accumulate()` returns an iterator that also yields each partial result:"
   ]
  },
  {
   "cell_type": "code",
   "execution_count": 21,
   "metadata": {},
   "outputs": [
    {
     "name": "stdout",
     "output_type": "stream",
     "text": [
      "[1, 3, 6, 10, 15]\n",
      "[1, 2, 6, 24, 120]\n"
     ]
    }
   ],
   "source": [
    "print(list(itertools.accumulate([1, 2, 3, 4, 5])))\n",
    "print(list(itertools.accumulate([1, 2, 3, 4, 5], operator.mul)))"
   ]
  },
  {
   "cell_type": "markdown",
   "metadata": {},
   "source": [
    "## The operator module\n",
    "The `operator` module was mentioned earlier. It contains a set of functions corresponding to Python’s operators. These functions are often useful in functional-style code because they save you from writing trivial functions that perform a single operation.\n",
    "\n",
    "Some of the functions in this module are:\n",
    "\n",
    "* Math operations: `add()`, `sub()`, `mul()`, `floordiv()`, `abs()`, …\n",
    "* Logical operations: `not_()`, `truth()`.\n",
    "* Bitwise operations: `and_()`, `or_()`, `invert()`.\n",
    "* Comparisons: `eq()`, `ne()`, `lt()`, `le()`, `gt()`, and `ge()`.\n",
    "* Object identity: `is_()`, `is_not()`.\n",
    "\n",
    "Consult the operator module’s documentation for a complete list.\n",
    "\n",
    "# Small functions and the lambda expression\n",
    "When writing functional-style programs, you’ll often need little functions that act as predicates or that combine elements in some way.\n",
    "\n",
    "If there’s a Python built-in or a module function that’s suitable, you don’t need to define a new function at all:\n",
    "\n",
    "```python\n",
    "stripped_lines = [line.strip() for line in lines]\n",
    "existing_files = filter(os.path.exists, file_list)\n",
    "```\n",
    "\n",
    "If the function you need doesn’t exist, you need to write it. One way to write small functions is to use the `lambda` statement. `lambda` takes a number of parameters and an expression combining these parameters, and creates an anonymous function that returns the value of the expression:\n",
    "\n",
    "```python\n",
    "adder = lambda x, y: x+y\n",
    "\n",
    "print_assign = lambda name, value: name + '=' + str(value)\n",
    "```\n",
    "\n",
    "An alternative is to just use the `def` statement and define a function in the usual way:\n",
    "\n",
    "```python\n",
    "def adder(x, y):\n",
    "    return x + y\n",
    "\n",
    "def print_assign(name, value):\n",
    "    return name + '=' + str(value)\n",
    "```\n",
    "\n",
    "Which alternative is preferable? That’s a style question; my usual course is to avoid using lambda.\n",
    "\n",
    "One reason for my preference is that `lambda` is quite limited in the functions it can define. The result has to be computable as a single expression, which means you can’t have multiway `if... elif... else` comparisons or `try... except` statements. If you try to do too much in a lambda statement, you’ll end up with an overly complicated expression that’s hard to read. Quick, what’s the following code doing?"
   ]
  },
  {
   "cell_type": "code",
   "execution_count": 22,
   "metadata": {},
   "outputs": [
    {
     "name": "stdout",
     "output_type": "stream",
     "text": [
      "111\n"
     ]
    }
   ],
   "source": [
    "import functools\n",
    "items = [[1,1],[2,10],[3,100]]\n",
    "total = functools.reduce(lambda a, b: (0, a[1] + b[1]), items)[1]\n",
    "print(total)"
   ]
  },
  {
   "cell_type": "markdown",
   "metadata": {},
   "source": [
    "You can figure it out, but it takes time to disentangle the expression to figure out what’s going on. Using a short nested `def` statements makes things a little bit better:"
   ]
  },
  {
   "cell_type": "code",
   "execution_count": 23,
   "metadata": {},
   "outputs": [
    {
     "name": "stdout",
     "output_type": "stream",
     "text": [
      "111\n"
     ]
    }
   ],
   "source": [
    "import functools\n",
    "def combine(a, b):\n",
    "    return 0, a[1] + b[1]\n",
    "\n",
    "items = [[1,1],[2,10],[3,100]]\n",
    "total = functools.reduce(combine, items)[1]\n",
    "print(total)"
   ]
  },
  {
   "cell_type": "markdown",
   "metadata": {},
   "source": [
    "But it would be best of all if I had simply used a for loop:\n",
    "\n",
    "```python\n",
    "total = 0\n",
    "for a, b in items:\n",
    "    total += b\n",
    "```\n",
    "\n",
    "Or the sum() built-in and a generator expression:\n",
    "\n",
    "```python\n",
    "total = sum(b for a, b in items)\n",
    "```\n",
    "\n",
    "Many uses of functools.reduce() are clearer when written as for loops.\n",
    "\n",
    "Fredrik Lundh once suggested the following set of rules for refactoring uses of lambda:\n",
    "\n",
    "1. Write a lambda function.\n",
    "2. Write a comment explaining what the heck that lambda does.\n",
    "3. Study the comment for a while, and think of a name that captures the essence of the comment.\n",
    "4. Convert the lambda to a def statement, using that name.\n",
    "5. Remove the comment.\n",
    "\n",
    "I really like these rules, but you’re free to disagree about whether this lambda-free style is better."
   ]
  }
 ],
 "metadata": {
  "kernelspec": {
   "display_name": "Python 3",
   "language": "python",
   "name": "python3"
  },
  "language_info": {
   "codemirror_mode": {
    "name": "ipython",
    "version": 3
   },
   "file_extension": ".py",
   "mimetype": "text/x-python",
   "name": "python",
   "nbconvert_exporter": "python",
   "pygments_lexer": "ipython3",
   "version": "3.6.5"
  }
 },
 "nbformat": 4,
 "nbformat_minor": 2
}
