{
 "cells": [
  {
   "cell_type": "markdown",
   "metadata": {},
   "source": [
    "# PyFP - Using the `.map()` function\n",
    "\n",
    "The `.map()` function takes another function and a sequence of items and creates a new, empty collection, runs the function on each item in the original collection and inserts each return value into the new collection. \n",
    "\n",
    "### Function Pseudo Syntax\n",
    "``` python\n",
    "def map(function, sequence):\n",
    "    return [function(x) for x in sequence]\n",
    "```\n",
    "\n",
    "### Helpful resources:\n",
    "* https://maryrosecook.com/blog/post/a-practical-introduction-to-functional-programming"
   ]
  },
  {
   "cell_type": "code",
   "execution_count": 1,
   "metadata": {},
   "outputs": [
    {
     "name": "stdout",
     "output_type": "stream",
     "text": [
      "['Mary', 'Peter,', 'Joe', 'Alexandra']\n",
      "[4, 6, 3, 9]\n"
     ]
    }
   ],
   "source": [
    "names = ['Mary','Peter,','Joe','Alexandra']\n",
    "name_len = list(map(len, names))\n",
    "print(names)\n",
    "print(name_len)"
   ]
  },
  {
   "cell_type": "markdown",
   "metadata": {},
   "source": [
    "## Introducing Lambda Expressions\n",
    "Given lambda expressions are considered nameless functions, we can create a variable and assign it to a lambda expression, then parse the variable in a map function return a sequence with new values.\n",
    "\n",
    "### Exampe: Square numbers"
   ]
  },
  {
   "cell_type": "code",
   "execution_count": 2,
   "metadata": {},
   "outputs": [
    {
     "name": "stdout",
     "output_type": "stream",
     "text": [
      "[1, 4, 9, 16, 25]\n"
     ]
    }
   ],
   "source": [
    "square = lambda x : x * x\n",
    "numbers = [1,2,3,4,5]\n",
    "squares = list(map(square, numbers))\n",
    "print(squares)"
   ]
  },
  {
   "cell_type": "markdown",
   "metadata": {},
   "source": [
    "### Example: Replacing spaces for underscores and make lower case in names"
   ]
  },
  {
   "cell_type": "code",
   "execution_count": 3,
   "metadata": {},
   "outputs": [
    {
     "name": "stdout",
     "output_type": "stream",
     "text": [
      "['john_smith', 'jane_doe', 'homer_simpson']\n"
     ]
    }
   ],
   "source": [
    "names2 = ['John Smith','Jane Doe','Homer Simpson']\n",
    "subber = lambda x: x.replace(\" \", \"_\").lower()\n",
    "names_sub = list(map(subber, names2))\n",
    "print(names_sub)"
   ]
  },
  {
   "cell_type": "markdown",
   "metadata": {},
   "source": [
    "## Performance Tests"
   ]
  },
  {
   "cell_type": "code",
   "execution_count": 4,
   "metadata": {},
   "outputs": [
    {
     "name": "stdout",
     "output_type": "stream",
     "text": [
      "Iter: 1.1693597420235164\n",
      " Map: 0.8241260719951242\n"
     ]
    }
   ],
   "source": [
    "from timeit import timeit\n",
    "\n",
    "# Iteration using list comprhension\n",
    "time_iter1 = timeit('\"-\".join([str(n) for n in range(500)])', \n",
    "                           number=10000)\n",
    "\n",
    "# Using map function\n",
    "time_map1 = timeit('\"-\".join(map(str, range(500)))',\n",
    "                          number=10000)\n",
    "\n",
    "# Print results\n",
    "print('Iter: {}'.format(time_iter1))\n",
    "print(' Map: {}'.format(time_map1))"
   ]
  },
  {
   "cell_type": "code",
   "execution_count": 5,
   "metadata": {},
   "outputs": [
    {
     "name": "stdout",
     "output_type": "stream",
     "text": [
      "Iteration\n",
      "2.84 µs ± 70.8 ns per loop (mean ± std. dev. of 7 runs, 100000 loops each)\n",
      "25.2 µs ± 456 ns per loop (mean ± std. dev. of 7 runs, 10000 loops each)\n",
      "255 µs ± 5.6 µs per loop (mean ± std. dev. of 7 runs, 1000 loops each)\n",
      "Recursion\n",
      "2.36 µs ± 61.2 ns per loop (mean ± std. dev. of 7 runs, 100000 loops each)\n",
      "17.2 µs ± 720 ns per loop (mean ± std. dev. of 7 runs, 100000 loops each)\n",
      "168 µs ± 3.98 µs per loop (mean ± std. dev. of 7 runs, 10000 loops each)\n"
     ]
    }
   ],
   "source": [
    "print(\"Iteration\")\n",
    "%timeit \"-\".join([str(n) for n in range(10)])\n",
    "%timeit \"-\".join([str(n) for n in range(100)])\n",
    "%timeit \"-\".join([str(n) for n in range(1000)])\n",
    "\n",
    "print(\"Recursion\")\n",
    "%timeit \"-\".join(map(str, range(10)))\n",
    "%timeit \"-\".join(map(str, range(100)))\n",
    "%timeit \"-\".join(map(str, range(1000)))"
   ]
  }
 ],
 "metadata": {
  "kernelspec": {
   "display_name": "Python 3",
   "language": "python",
   "name": "python3"
  },
  "language_info": {
   "codemirror_mode": {
    "name": "ipython",
    "version": 3
   },
   "file_extension": ".py",
   "mimetype": "text/x-python",
   "name": "python",
   "nbconvert_exporter": "python",
   "pygments_lexer": "ipython3",
   "version": "3.6.5"
  }
 },
 "nbformat": 4,
 "nbformat_minor": 2
}
