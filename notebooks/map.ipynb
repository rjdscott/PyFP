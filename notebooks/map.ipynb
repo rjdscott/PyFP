{
 "cells": [
  {
   "cell_type": "markdown",
   "metadata": {},
   "source": [
    "# Python-FP: Using the `.map()` function\n",
    "\n",
    "The `.map()` function takes another function and a sequence of items and creates a new, empty collection, runs the function on each item in the original collection and inserts each return value into the new collection. \n",
    "\n",
    "### Function Pseudo Syntax\n",
    "``` python\n",
    "def map(function, sequence):\n",
    "    return [function(x) for x in sequence]\n",
    "```\n",
    "\n",
    "### Helpful resources:\n",
    "* https://maryrosecook.com/blog/post/a-practical-introduction-to-functional-programming"
   ]
  },
  {
   "cell_type": "code",
   "execution_count": 1,
   "metadata": {},
   "outputs": [
    {
     "name": "stdout",
     "output_type": "stream",
     "text": [
      "['Mary', 'Peter,', 'Joe', 'Alexandra']\n",
      "[4, 6, 3, 9]\n"
     ]
    }
   ],
   "source": [
    "names = ['Mary','Peter,','Joe','Alexandra']\n",
    "name_len = list(map(len, names))\n",
    "print(names)\n",
    "print(name_len)"
   ]
  },
  {
   "cell_type": "markdown",
   "metadata": {},
   "source": [
    "## Introducing Lambda Expressions\n",
    "Given lambda expressions are considered nameless functions, we can create a variable and assign it to a lambda expression, then parse the variable in a map function return a sequence with new values.\n",
    "\n",
    "### Exampe: Square numbers"
   ]
  },
  {
   "cell_type": "code",
   "execution_count": 2,
   "metadata": {},
   "outputs": [
    {
     "name": "stdout",
     "output_type": "stream",
     "text": [
      "[1, 4, 9, 16, 25]\n"
     ]
    }
   ],
   "source": [
    "square = lambda x : x * x\n",
    "numbers = [1,2,3,4,5]\n",
    "squares = list(map(square, numbers))\n",
    "print(squares)"
   ]
  },
  {
   "cell_type": "markdown",
   "metadata": {},
   "source": [
    "### Example: Replacing spaces for underscores and make lower case in names"
   ]
  },
  {
   "cell_type": "code",
   "execution_count": 3,
   "metadata": {},
   "outputs": [
    {
     "name": "stdout",
     "output_type": "stream",
     "text": [
      "['john_smith', 'jane_doe', 'homer_simpson']\n"
     ]
    }
   ],
   "source": [
    "names2 = ['John Smith','Jane Doe','Homer Simpson']\n",
    "subber = lambda x: x.replace(\" \", \"_\").lower()\n",
    "names_sub = list(map(subber, names2))\n",
    "print(names_sub)"
   ]
  },
  {
   "cell_type": "markdown",
   "metadata": {},
   "source": [
    "## Performance Tests"
   ]
  },
  {
   "cell_type": "code",
   "execution_count": null,
   "metadata": {},
   "outputs": [],
   "source": [
    "from timeit import timeit\n",
    "\n",
    "# Iteration using list comprhension\n",
    "time_iter1 = timeit('\"-\".join([str(n) for n in range(500)])', \n",
    "                           number=10000)\n",
    "\n",
    "# Using map function\n",
    "time_map1 = timeit('\"-\".join(map(str, range(500)))',\n",
    "                          number=10000)\n",
    "\n",
    "# Print results\n",
    "print('Iter: {}'.format(time_iter1))\n",
    "print(' Map: {}'.format(time_map1))"
   ]
  }
 ],
 "metadata": {
  "kernelspec": {
   "display_name": "Python 3",
   "language": "python",
   "name": "python3"
  },
  "language_info": {
   "codemirror_mode": {
    "name": "ipython",
    "version": 3
   },
   "file_extension": ".py",
   "mimetype": "text/x-python",
   "name": "python",
   "nbconvert_exporter": "python",
   "pygments_lexer": "ipython3",
   "version": "3.6.5"
  }
 },
 "nbformat": 4,
 "nbformat_minor": 2
}
