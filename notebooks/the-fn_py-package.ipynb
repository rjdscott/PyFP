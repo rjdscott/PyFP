{
 "cells": [
  {
   "cell_type": "markdown",
   "metadata": {},
   "source": [
    "# PyFP - The `fn.py` Package\n",
    "\n",
    "Fn.py: enjoy FP in Python\n",
    "\n",
    "Documentation:\n",
    "* https://github.com/kachayev/fn.py\n",
    "\n",
    "# Introduction\n",
    "\n",
    "Despite the fact that Python is not pure-functional programming language, it's multi-paradigm PL and it gives you enough freedom to take credits from functional programming approach. There are theoretical and practical advantages to the functional style:\n",
    "\n",
    "* Formal provability\n",
    "* Modularity\n",
    "* Composability\n",
    "* Ease of debugging and testing\n",
    "\n",
    "`fn.py` library provides you with missing \"batteries\" to get maximum from functional approach even in mostly-imperative program.\n",
    "\n",
    "More about functional approach from my Pycon UA 2012 talks: [Functional Programming with Python.](http://kachayev.github.io/talks/uapycon2012/index.html#/)\n",
    "\n",
    "# Installation\n",
    "To install fn.py, simply:\n",
    "\n",
    "```\n",
    "$ pip install fn\n",
    "\n",
    "```\n",
    "\n",
    "Or, if you absolutely must:\n",
    "\n",
    "```\n",
    "$ easy_install fn\n",
    "\n",
    "```\n",
    "\n",
    "You can also build library from source\n",
    "\n",
    "```\n",
    "$ git clone https://github.com/kachayev/fn.py.git\n",
    "$ cd fn.py\n",
    "$ python setup.py install\n",
    "```\n",
    "\n",
    "# Scala-style lambdas definition"
   ]
  },
  {
   "cell_type": "code",
   "execution_count": 4,
   "metadata": {},
   "outputs": [],
   "source": [
    "from fn import _\n",
    "from fn.op import zipwith\n",
    "from itertools import repeat\n",
    "\n",
    "assert list(map(_ * 2, range(5))) == [0,2,4,6,8]\n",
    "assert list(filter(_ < 10, [9,10,11])) == [9]\n",
    "assert list(zipwith(_ + _)([0,1,2], repeat(10))) == [10,11,12]"
   ]
  },
  {
   "cell_type": "markdown",
   "metadata": {},
   "source": [
    "If you are not sure, what your function is going to do, you can print it:"
   ]
  },
  {
   "cell_type": "code",
   "execution_count": 5,
   "metadata": {},
   "outputs": [
    {
     "name": "stdout",
     "output_type": "stream",
     "text": [
      "(x1) => (x1 + 2)\n",
      "(x1, x2, x3) => (x1 + (x2 * x3))\n"
     ]
    }
   ],
   "source": [
    "from fn import _\n",
    "\n",
    "print (_ + 2) # \"(x1) => (x1 + 2)\"\n",
    "print (_ + _ * _) # \"(x1, x2, x3) => (x1 + (x2 * x3))\""
   ]
  },
  {
   "cell_type": "markdown",
   "metadata": {},
   "source": [
    "`_` will fail with `ArityError` (`TypeError` subclass) on inaccurate number of passed arguments.\n",
    "\n",
    "# Persistent data structures\n",
    "**Attention:** Persistent data structures are under active development.\n",
    "\n",
    "Persistent data structure is a data structure that always preserves the previous version of itself when it is modified (more formal information on Wikipedia). Each operation with such data structure yields a new updated structure instead of in-place modification (all previous versions are potentially available or GC-ed when possible).\n",
    "\n",
    "Lets take a quick look:"
   ]
  },
  {
   "cell_type": "code",
   "execution_count": 6,
   "metadata": {},
   "outputs": [
    {
     "data": {
      "text/plain": [
       "<fn.immutable.heap.SkewHeap at 0x106cc6868>"
      ]
     },
     "execution_count": 6,
     "metadata": {},
     "output_type": "execute_result"
    }
   ],
   "source": [
    "from fn.immutable import SkewHeap\n",
    "\n",
    "s1 = SkewHeap(10)\n",
    "s2 = s1.insert(20)\n",
    "s2"
   ]
  },
  {
   "cell_type": "code",
   "execution_count": 7,
   "metadata": {},
   "outputs": [
    {
     "data": {
      "text/plain": [
       "<fn.immutable.heap.SkewHeap at 0x106cc6b40>"
      ]
     },
     "execution_count": 7,
     "metadata": {},
     "output_type": "execute_result"
    }
   ],
   "source": [
    "s3 = s2.insert(30)\n",
    "s3  # <-- other object"
   ]
  },
  {
   "cell_type": "code",
   "execution_count": 8,
   "metadata": {},
   "outputs": [
    {
     "data": {
      "text/plain": [
       "(10, <fn.immutable.heap.SkewHeap at 0x106cc6a70>)"
      ]
     },
     "execution_count": 8,
     "metadata": {},
     "output_type": "execute_result"
    }
   ],
   "source": [
    "s3.extract()"
   ]
  },
  {
   "cell_type": "code",
   "execution_count": 9,
   "metadata": {},
   "outputs": [
    {
     "data": {
      "text/plain": [
       "(10, <fn.immutable.heap.SkewHeap at 0x106cc6d48>)"
      ]
     },
     "execution_count": 9,
     "metadata": {},
     "output_type": "execute_result"
    }
   ],
   "source": [
    "s3.extract() # <-- s3 isn't changed"
   ]
  },
  {
   "cell_type": "markdown",
   "metadata": {},
   "source": [
    "# Streams and infinite sequences declaration\n",
    "Lazy-evaluated Scala-style streams. Basic idea: evaluate each new element \"on demand\" and share calculated elements between all created iterators. Stream object supports << operator that means pushing new elements when it's necessary.\n",
    "\n",
    "Simplest cases:"
   ]
  },
  {
   "cell_type": "code",
   "execution_count": 10,
   "metadata": {},
   "outputs": [],
   "source": [
    "from fn import Stream\n",
    "\n",
    "s = Stream() << [1,2,3,4,5]\n",
    "assert list(s) == [1,2,3,4,5]\n",
    "assert s[1] == 2\n",
    "assert list(s[0:2]) == [1,2]\n",
    "\n",
    "s = Stream() << range(6) << [6,7]\n",
    "assert list(s) == [0,1,2,3,4,5,6,7]\n",
    "\n",
    "def gen():\n",
    "    yield 1\n",
    "    yield 2\n",
    "    yield 3\n",
    "\n",
    "s = Stream() << gen << (4,5)\n",
    "assert list(s) == [1,2,3,4,5]"
   ]
  },
  {
   "cell_type": "markdown",
   "metadata": {},
   "source": [
    "Lazy-evaluated stream is useful for infinite sequences, i.e. fibonacci sequence can be calculated as:"
   ]
  },
  {
   "cell_type": "code",
   "execution_count": 11,
   "metadata": {},
   "outputs": [],
   "source": [
    "from fn import Stream\n",
    "from fn.iters import take, drop, map\n",
    "from operator import add\n",
    "\n",
    "f = Stream()\n",
    "fib = f << [0, 1] << map(add, f, drop(1, f))\n",
    "\n",
    "assert list(take(10, fib)) == [0,1,1,2,3,5,8,13,21,34]\n",
    "assert fib[20] == 6765\n",
    "assert list(fib[30:35]) == [832040,1346269,2178309,3524578,5702887]"
   ]
  },
  {
   "cell_type": "markdown",
   "metadata": {},
   "source": [
    "# Trampolines decorator\n",
    "fn.recur.tco is a workaround for dealing with TCO without heavy stack utilization. Let's start from simple example of recursive factorial calculation:"
   ]
  },
  {
   "cell_type": "code",
   "execution_count": 12,
   "metadata": {},
   "outputs": [],
   "source": [
    "def fact(n):\n",
    "    if n == 0: return 1\n",
    "    return n * fact(n-1)"
   ]
  },
  {
   "cell_type": "markdown",
   "metadata": {},
   "source": [
    "This variant works, but it's really ugly. Why? It will utilize memory too heavy cause of recursive storing all previous values to calculate final result. If you will execute this function with big n (more than sys.getrecursionlimit()) CPython will fail with"
   ]
  },
  {
   "cell_type": "code",
   "execution_count": 13,
   "metadata": {},
   "outputs": [
    {
     "ename": "RecursionError",
     "evalue": "maximum recursion depth exceeded in comparison",
     "output_type": "error",
     "traceback": [
      "\u001b[0;31m---------------------------------------------------------------------------\u001b[0m",
      "\u001b[0;31mRecursionError\u001b[0m                            Traceback (most recent call last)",
      "\u001b[0;32m<ipython-input-13-df749c209a84>\u001b[0m in \u001b[0;36m<module>\u001b[0;34m()\u001b[0m\n\u001b[1;32m      1\u001b[0m \u001b[0;32mimport\u001b[0m \u001b[0msys\u001b[0m\u001b[0;34m\u001b[0m\u001b[0m\n\u001b[0;32m----> 2\u001b[0;31m \u001b[0mfact\u001b[0m\u001b[0;34m(\u001b[0m\u001b[0msys\u001b[0m\u001b[0;34m.\u001b[0m\u001b[0mgetrecursionlimit\u001b[0m\u001b[0;34m(\u001b[0m\u001b[0;34m)\u001b[0m \u001b[0;34m*\u001b[0m \u001b[0;36m2\u001b[0m\u001b[0;34m)\u001b[0m\u001b[0;34m\u001b[0m\u001b[0m\n\u001b[0m",
      "\u001b[0;32m<ipython-input-12-202137514f39>\u001b[0m in \u001b[0;36mfact\u001b[0;34m(n)\u001b[0m\n\u001b[1;32m      1\u001b[0m \u001b[0;32mdef\u001b[0m \u001b[0mfact\u001b[0m\u001b[0;34m(\u001b[0m\u001b[0mn\u001b[0m\u001b[0;34m)\u001b[0m\u001b[0;34m:\u001b[0m\u001b[0;34m\u001b[0m\u001b[0m\n\u001b[1;32m      2\u001b[0m     \u001b[0;32mif\u001b[0m \u001b[0mn\u001b[0m \u001b[0;34m==\u001b[0m \u001b[0;36m0\u001b[0m\u001b[0;34m:\u001b[0m \u001b[0;32mreturn\u001b[0m \u001b[0;36m1\u001b[0m\u001b[0;34m\u001b[0m\u001b[0m\n\u001b[0;32m----> 3\u001b[0;31m     \u001b[0;32mreturn\u001b[0m \u001b[0mn\u001b[0m \u001b[0;34m*\u001b[0m \u001b[0mfact\u001b[0m\u001b[0;34m(\u001b[0m\u001b[0mn\u001b[0m\u001b[0;34m-\u001b[0m\u001b[0;36m1\u001b[0m\u001b[0;34m)\u001b[0m\u001b[0;34m\u001b[0m\u001b[0m\n\u001b[0m",
      "... last 1 frames repeated, from the frame below ...\n",
      "\u001b[0;32m<ipython-input-12-202137514f39>\u001b[0m in \u001b[0;36mfact\u001b[0;34m(n)\u001b[0m\n\u001b[1;32m      1\u001b[0m \u001b[0;32mdef\u001b[0m \u001b[0mfact\u001b[0m\u001b[0;34m(\u001b[0m\u001b[0mn\u001b[0m\u001b[0;34m)\u001b[0m\u001b[0;34m:\u001b[0m\u001b[0;34m\u001b[0m\u001b[0m\n\u001b[1;32m      2\u001b[0m     \u001b[0;32mif\u001b[0m \u001b[0mn\u001b[0m \u001b[0;34m==\u001b[0m \u001b[0;36m0\u001b[0m\u001b[0;34m:\u001b[0m \u001b[0;32mreturn\u001b[0m \u001b[0;36m1\u001b[0m\u001b[0;34m\u001b[0m\u001b[0m\n\u001b[0;32m----> 3\u001b[0;31m     \u001b[0;32mreturn\u001b[0m \u001b[0mn\u001b[0m \u001b[0;34m*\u001b[0m \u001b[0mfact\u001b[0m\u001b[0;34m(\u001b[0m\u001b[0mn\u001b[0m\u001b[0;34m-\u001b[0m\u001b[0;36m1\u001b[0m\u001b[0;34m)\u001b[0m\u001b[0;34m\u001b[0m\u001b[0m\n\u001b[0m",
      "\u001b[0;31mRecursionError\u001b[0m: maximum recursion depth exceeded in comparison"
     ]
    }
   ],
   "source": [
    "import sys\n",
    "fact(sys.getrecursionlimit() * 2)"
   ]
  },
  {
   "cell_type": "markdown",
   "metadata": {},
   "source": [
    "Which is good, cause it prevents you from terrible mistakes in your code.\n",
    "\n",
    "How can we optimize this solution? Answer is simple, lets transform function to use tail call:"
   ]
  },
  {
   "cell_type": "code",
   "execution_count": 14,
   "metadata": {},
   "outputs": [],
   "source": [
    "def fact(n, acc=1):\n",
    "    if n == 0: return acc\n",
    "    return fact(n-1, acc*n)"
   ]
  },
  {
   "cell_type": "markdown",
   "metadata": {},
   "source": [
    "Why this variant is better? Cause you don't need to remember previous values to calculate final result. More about tail call optimization on [Wikipedia](https://en.wikipedia.org/wiki/Tail_call). \n",
    "\n",
    "But... Python interpreter will execute this function the same way as previous one, so you won't win anything.\n",
    "\n",
    "`fn.recur.tco` gives you mechanism to write \"optimized a bit\" tail call recursion (using \"trampoline\" approach):"
   ]
  },
  {
   "cell_type": "code",
   "execution_count": 15,
   "metadata": {},
   "outputs": [],
   "source": [
    "from fn import recur\n",
    "\n",
    "@recur.tco\n",
    "def fact(n, acc=1):\n",
    "    if n == 0: return False, acc\n",
    "    return True, (n-1, acc*n)"
   ]
  },
  {
   "cell_type": "markdown",
   "metadata": {},
   "source": [
    "@recur.tco is a decorator that execute your function in while loop and check output:\n",
    "\n",
    "* `(False, result)` means that we finished\n",
    "* `(True, args, kwargs)` means that we need to call function again with other arguments\n",
    "* `(func, args, kwargs)` to switch function to be executed inside while loop\n",
    "\n",
    "The last variant is really useful, when you need to switch callable inside evaluation loop. Good example for such situation is recursive detection if given number is odd or even:"
   ]
  },
  {
   "cell_type": "code",
   "execution_count": 17,
   "metadata": {},
   "outputs": [
    {
     "name": "stdout",
     "output_type": "stream",
     "text": [
      "True\n"
     ]
    }
   ],
   "source": [
    "from fn import recur\n",
    "\n",
    "@recur.tco\n",
    "def even(x):\n",
    "    if x == 0: return False, True\n",
    "    return odd, (x-1,)\n",
    "\n",
    "@recur.tco\n",
    "def odd(x):\n",
    "    if x == 0: return False, False\n",
    "    return even, (x-1,)\n",
    "\n",
    "print(even(100000))"
   ]
  },
  {
   "cell_type": "markdown",
   "metadata": {},
   "source": [
    "# High-level operations with functions\n",
    "`fn.F` is a useful function wrapper to provide easy-to-use partial application and functions composition."
   ]
  },
  {
   "cell_type": "code",
   "execution_count": 18,
   "metadata": {},
   "outputs": [],
   "source": [
    "from fn import F, _\n",
    "from operator import add, mul\n",
    "\n",
    "# F(f, *args) means partial application\n",
    "# same as functools.partial but returns fn.F instance\n",
    "assert F(add, 1)(10) == 11\n",
    "\n",
    "# F << F means functions composition,\n",
    "# so (F(f) << g)(x) == f(g(x))\n",
    "f = F(add, 1) << F(mul, 100)\n",
    "assert list(map(f, [0, 1, 2])) == [1, 101, 201]\n",
    "assert list(map(F() << str << (_ ** 2) << (_ + 1), range(3))) == [\"1\", \"4\", \"9\"]"
   ]
  },
  {
   "cell_type": "markdown",
   "metadata": {},
   "source": [
    "It also give you move readable in many cases \"pipe\" notation to deal with functions composition:"
   ]
  },
  {
   "cell_type": "code",
   "execution_count": 19,
   "metadata": {},
   "outputs": [],
   "source": [
    "from fn import F, _\n",
    "from fn.iters import filter, range\n",
    "\n",
    "func = F() >> (filter, _ < 6) >> sum\n",
    "assert func(range(10)) == 15"
   ]
  },
  {
   "cell_type": "markdown",
   "metadata": {},
   "source": [
    "You can find more examples for compositions usage in `fn._` implementation source code.\n",
    "\n",
    "`fn.op.apply` executes given function with given positional arguments in list (or any other iterable). `fn.op.flip` returns you function that will reverse arguments order before apply."
   ]
  },
  {
   "cell_type": "code",
   "execution_count": 20,
   "metadata": {},
   "outputs": [],
   "source": [
    "from fn.op import apply, flip\n",
    "from operator import add, sub\n",
    "\n",
    "assert apply(add, [1, 2]) == 3\n",
    "assert flip(sub)(20,10) == -10\n",
    "assert list(map(apply, [add, mul], [(1,2), (10,20)])) == [3, 200]"
   ]
  },
  {
   "cell_type": "markdown",
   "metadata": {},
   "source": [
    "`fn.op.foldl` and `fn.op.foldr` are folding operators. Each accepts function with arity 2 and returns function that can be used to reduce iterable to scalar: from left-to-right and from right-to-left in case of foldl and foldr respectively."
   ]
  },
  {
   "cell_type": "code",
   "execution_count": 21,
   "metadata": {},
   "outputs": [],
   "source": [
    "from fn import op, _\n",
    "\n",
    "folder = op.foldr(_ * _, 1)\n",
    "assert 6 == op.foldl(_ + _)([1,2,3])\n",
    "assert 6 == folder([1,2,3])"
   ]
  },
  {
   "cell_type": "markdown",
   "metadata": {},
   "source": [
    "Use case specific for right-side folding is:"
   ]
  },
  {
   "cell_type": "code",
   "execution_count": 22,
   "metadata": {},
   "outputs": [],
   "source": [
    "from fn.op import foldr, call\n",
    "\n",
    "assert 100 == foldr(call, 0 )([lambda s: s**2, lambda k: k+10])\n",
    "assert 400 == foldr(call, 10)([lambda s: s**2, lambda k: k+10])"
   ]
  },
  {
   "cell_type": "markdown",
   "metadata": {},
   "source": [
    "# Function currying\n",
    "fn.func.curried is a decorator for building curried functions, for example:"
   ]
  },
  {
   "cell_type": "code",
   "execution_count": 24,
   "metadata": {},
   "outputs": [
    {
     "name": "stdout",
     "output_type": "stream",
     "text": [
      "15\n",
      "15\n"
     ]
    }
   ],
   "source": [
    "from fn.func import curried\n",
    "@curried\n",
    "def sum5(a, b, c, d, e):\n",
    "    return a + b + c + d + e\n",
    "\n",
    "print(sum5(1)(2)(3)(4)(5))\n",
    "print(sum5(1, 2, 3)(4, 5))"
   ]
  },
  {
   "cell_type": "markdown",
   "metadata": {},
   "source": [
    "# Functional style for error-handling\n",
    "`fn.monad.Option` represents optional values, each instance of `Option` can be either instance of `Full` or `Empty`. It provides you with simple way to write long computation sequences and get rid of many `if/else` blocks. See usage examples below.\n",
    "\n",
    "Assume that you have Request class that gives you parameter value by its name. To get uppercase notation for non-empty striped value:"
   ]
  },
  {
   "cell_type": "code",
   "execution_count": 25,
   "metadata": {},
   "outputs": [],
   "source": [
    "class Request(dict):\n",
    "    def parameter(self, name):\n",
    "        return self.get(name, None)\n",
    "\n",
    "r = Request(testing=\"Fixed\", empty=\"   \")\n",
    "param = r.parameter(\"testing\")\n",
    "if param is None:\n",
    "    fixed = \"\"\n",
    "else:\n",
    "    param = param.strip()\n",
    "    if len(param) == 0:\n",
    "        fixed = \"\"\n",
    "    else:\n",
    "        fixed = param.upper()"
   ]
  },
  {
   "cell_type": "markdown",
   "metadata": {},
   "source": [
    "Hmm, looks ugly.. Update code with `fn.monad.Option`:"
   ]
  },
  {
   "cell_type": "code",
   "execution_count": 29,
   "metadata": {},
   "outputs": [],
   "source": [
    "from operator import methodcaller\n",
    "from fn.monad import optionable\n",
    "\n",
    "class Request(dict):\n",
    "    @optionable\n",
    "    def parameter(self, name):\n",
    "        return self.get(name, None)\n",
    "\n",
    "r = Request(testing=\"Fixed\", empty=\"   \")\n",
    "fixed = (\n",
    "         r.parameter(\"testing\")\n",
    "          .map(methodcaller(\"strip\"))\n",
    "          .filter(len)\n",
    "          .map(methodcaller(\"upper\"))\n",
    "          .get_or(\"\")\n",
    "        )"
   ]
  }
 ],
 "metadata": {
  "kernelspec": {
   "display_name": "Python 3",
   "language": "python",
   "name": "python3"
  },
  "language_info": {
   "codemirror_mode": {
    "name": "ipython",
    "version": 3
   },
   "file_extension": ".py",
   "mimetype": "text/x-python",
   "name": "python",
   "nbconvert_exporter": "python",
   "pygments_lexer": "ipython3",
   "version": "3.6.5"
  }
 },
 "nbformat": 4,
 "nbformat_minor": 2
}
