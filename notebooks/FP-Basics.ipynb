{
 "cells": [
  {
   "cell_type": "markdown",
   "metadata": {},
   "source": [
    "# PyFP - What is FP\n",
    "\n",
    "In the modern programming world we have Object Orientated Programming (OOP) and Functional Programming (FP). Both have been around for a long time but in this introduction, we will be contrasting FP against OOP to see where FP is stronger.\n",
    "\n",
    "We could go ahead and use a functional programming language such as Haskell, OCaml, Erlang or a hybrid like Scala, but lets keep to using python and look to make programs more pure in from a FP perspective.\n",
    "\n",
    "## FP Pros vs Cons\n",
    "**Disadvantages**\n",
    "\n",
    "* There is no efficient vocabulary for functional languages. Purely functional vocabularies work slower than the hash tables, and for some applications, this can be critical. Secondly, there is no purely functional weak hash map. Nevertheless, for most developers, this defect may remain unnoticed.\n",
    "\n",
    "* Functional programming is not suitable for algorithms in graphs (due to slow work) and in general for those solutions that for decades were based on imperative programming.\n",
    "\n",
    "**Advantages**\n",
    "\n",
    "* Functional programming is famous for its high-level abstractions that hide a large number of details of such routine operations like iterating. This makes the code shorter and, as a consequence, guarantees a smaller number of errors that can be tolerated.\n",
    "* In the functional programming, there is a smaller number of language primitives. Well-known classes are not used in FP. Instead of creating a unique description of an object with operations in the form of methods, in functional programming, there are several basic language primitives that are well optimized inside.\n",
    "* Due to the language and structures flexibility, as a functional programming developer, you can bring the language closer to the problem. And not vice versa. In addition, FP offers some new and interesting tools for solving complex tasks that OOP developers often neglect.\n",
    "* Working with functional languages provides accurate and fast code writing, facilitates testing and debugging. You’re working with high-level programs, and the functions signatures are more informative.\n",
    "\n",
    "## FP use cases\n",
    "These days developers try to solve the problem of parallel processing and working with Big Data. By parallelizing the processing of these data you get the desired result quite fast. Plus, do not forget about decentralized (distributed) calculations like blockchain. Due to functional programming principles, the functional code is the most suitable for such computations. The use of all basic API techniques facilitates the parallel execution of the code and its support.\n",
    "\n",
    "In the beginning, functional programming was used only for solving specific problems. But now it is applied even in classic projects created by large IT companies.\n",
    "\n",
    "## Declarative vs Imperative\n",
    "The imperative approach follows the principle of workflow control and answers the question ‘how to do’. \n",
    "\n",
    "The declarative approach describes the data flow and answers the question ‘what to do’. In addition, the imperative code most often uses instructions (operators), and declarative relies more on expressions.\n",
    "\n",
    "\n",
    "## Purity\n",
    "When Functional Programmers talk of Purity, they are referring to Pure Functions. Pure Functions are very simple functions. They only operate on their input parameters.\n",
    "\n",
    "Here’s an example in pythin of a Pure Function:"
   ]
  },
  {
   "cell_type": "code",
   "execution_count": 1,
   "metadata": {},
   "outputs": [],
   "source": [
    "def add(x, y):\n",
    "    return x + y"
   ]
  },
  {
   "cell_type": "markdown",
   "metadata": {},
   "source": [
    "It’s a pure function since it only deals with its inputs. It does add, but since it doesn’t return the results, it’s useless.\n",
    "\n",
    "Pure Functions will always produce the same output given the same inputs."
   ]
  },
  {
   "cell_type": "code",
   "execution_count": 2,
   "metadata": {},
   "outputs": [
    {
     "name": "stdout",
     "output_type": "stream",
     "text": [
      "4\n",
      "4\n",
      "4\n"
     ]
    }
   ],
   "source": [
    "print(add(1,3))\n",
    "print(add(1,3))\n",
    "print(add(1,3))"
   ]
  },
  {
   "cell_type": "markdown",
   "metadata": {},
   "source": [
    "Pure functions have no side effects and are expexted to return the same output everytime.\n",
    "\n",
    "In Imperative Programming Languages such as Javascript, Java, and C#, Side Effects are everywhere. \n",
    "\n",
    "This makes debugging very difficult because a variable can be changed anywhere in your program. So when you have a bug because a variable is changed to the wrong value at the wrong time, where do you look? Everywhere? That’s not good.\n",
    "\n",
    "\n",
    "## Immutability\n",
    "\n",
    "In Imperative Programming, it is common to have mutate a variable and return the mutated variable in a function. This means it takes the current value of `x` adds `1` to it and put that result back into `x`.\n",
    "\n",
    "Well, in functional programming, `x = x + 1` is illegal. There are no variables in FP\n",
    "\n",
    "Stored values are still called variables because of history but they are constants, i.e. once `x` takes on a value, it’s that value for life.\n",
    "\n",
    "Not to worry though, `x` is can still be a local variable but while it’s alive, it can never change.\n",
    "\n",
    "Here’s an example of constant variables in Python"
   ]
  },
  {
   "cell_type": "code",
   "execution_count": 3,
   "metadata": {},
   "outputs": [
    {
     "name": "stdout",
     "output_type": "stream",
     "text": [
      "16\n"
     ]
    }
   ],
   "source": [
    "def add_one_to_sum(y, z):\n",
    "    x = 1\n",
    "    return x + y + z\n",
    "\n",
    "print(add_one_to_sum(10,5))"
   ]
  },
  {
   "cell_type": "markdown",
   "metadata": {},
   "source": [
    "## FP replaces Loops with Recursion\n",
    "\n",
    "\n",
    "``` python\n",
    "# statement based loop\n",
    "for c in seq:  \n",
    "    func(c)\n",
    "\n",
    "# recursive based loop\n",
    "map(func, seq)  \n",
    "\n",
    "```\n",
    "\n",
    "Here's an example of a python for loop using a real live example. Note - see how each iteration has side effects on the `total` variable"
   ]
  },
  {
   "cell_type": "code",
   "execution_count": 14,
   "metadata": {},
   "outputs": [
    {
     "name": "stdout",
     "output_type": "stream",
     "text": [
      "45\n"
     ]
    }
   ],
   "source": [
    "total = 0\n",
    "for num in range(10):\n",
    "    total += num\n",
    "\n",
    "print(total)"
   ]
  },
  {
   "cell_type": "markdown",
   "metadata": {},
   "source": [
    "Here is an example of using recursion to solve the same problem. We will need to import the `reduce` function from pythons functools, and will also need to use pythons `lambda` function.\n",
    "\n",
    "Under the hood the reduct function generates a new list then reduces it to a single value and sets total to the value of the function."
   ]
  },
  {
   "cell_type": "code",
   "execution_count": 12,
   "metadata": {},
   "outputs": [
    {
     "name": "stdout",
     "output_type": "stream",
     "text": [
      "45\n"
     ]
    }
   ],
   "source": [
    "from functools import reduce\n",
    "\n",
    "total = reduce(lambda x, y: x + y,range(10))\n",
    "print(total)"
   ]
  },
  {
   "cell_type": "markdown",
   "metadata": {},
   "source": [
    "## Higher-Order Functions\n",
    "Many languages do not support passing functions as parameters. Some do but they don’t make it easy.\n",
    "\n",
    "In Functional Programming, a function is a first-class citizen of the language. In other words, a function is just another value.\n",
    "\n",
    "## Closures\n",
    "Let us construct a toy example that shows this, something just past a “hello world” of the different styles:\n",
    "\n",
    "```python\n",
    "# A class that creates callable adder instances\n",
    "class Adder(object):\n",
    "    def __init__(self, n):\n",
    "        self.n = n\n",
    "    def __call__(self, m):\n",
    "    return self.n + m\n",
    "\n",
    "# \"instance\" or \"imperative\"\n",
    "add5_i = Adder(5) \n",
    "```\n",
    "\n",
    "We have constructed something callable that adds five to an argument passed in. Seems simple and mathematical enough. Let us also try it as a closure:\n",
    "\n",
    "``` python\n",
    "def make_adder(n):\n",
    "    def adder(m):\n",
    "        return m + n\n",
    "    return adder\n",
    "\n",
    "# \"functional\"\n",
    "add5_f = make_adder(5) \n",
    "```\n",
    "\n",
    "## Currying\n",
    "\n",
    "In mathematics and computer science, currying is the technique of breaking down the evaluation of a function that takes multiple arguments into evaluating a sequence of single-argument functions.f Currying is also used in theoretical computer science, because it is often easier to transform multiple argument models into single argument models.\n",
    "\n",
    "#### Function Composition\n",
    "\n",
    "We define the composition h of two function f and g\n",
    "\n",
    "```\n",
    "h(x)=g(f(x))\n",
    "```\n",
    "in the following Python example.\n",
    "\n",
    "The composition of two functions is a chaining process in which the output of the inner function becomes the input of the outer function."
   ]
  },
  {
   "cell_type": "code",
   "execution_count": 2,
   "metadata": {},
   "outputs": [],
   "source": [
    "def compose(g, f):\n",
    "    def h(x):\n",
    "        return g(f(x))\n",
    "    return h"
   ]
  },
  {
   "cell_type": "markdown",
   "metadata": {},
   "source": [
    "We will use our compose function in the next example. Let's assume, we have a thermometer, which is not working accurate. The correct temperature can be calculated by applying the function readjust to the temperature values. Let us further assume that we have to convert our temperature values into degrees fahrenheit. We can do this by applying compose to both functions:"
   ]
  },
  {
   "cell_type": "code",
   "execution_count": 3,
   "metadata": {},
   "outputs": [
    {
     "data": {
      "text/plain": [
       "(44.5, 50.0)"
      ]
     },
     "execution_count": 3,
     "metadata": {},
     "output_type": "execute_result"
    }
   ],
   "source": [
    "def celsius2fahrenheit(t):\n",
    "    return 1.8 * t + 32\n",
    "def readjust(t):\n",
    "    return 0.9 * t - 0.5\n",
    "convert = compose(readjust, celsius2fahrenheit)\n",
    "convert(10), celsius2fahrenheit(10)"
   ]
  },
  {
   "cell_type": "markdown",
   "metadata": {},
   "source": [
    "## Common Functional Functions\n",
    "\n",
    "```python \n",
    "# Classic \"FP-style\"\n",
    "transformed = map(tranformation, iterator)\n",
    "\n",
    "# Comprehension\n",
    "transformed = (transformation(x) for x in iterator)\n",
    "\n",
    "# Classic \"FP-style\"\n",
    "filtered = filter(predicate, iterator)\n",
    "\n",
    "# Comprehension\n",
    "filtered = (x for x in iterator if predicate(x))\n",
    "\n",
    "# Classic \"FP-style\"\n",
    "from functools import reduce\n",
    "total = reduce(operator.add, it, 0)\n",
    "\n",
    "# Comprehension\n",
    "total = sum(it)\n",
    "```\n",
    "\n",
    "For more information on these functions, please see here:\n",
    "* **Map -** [example](https://github.com/rjdscott/PyFP/blob/master/notebooks/map.ipynb)\n",
    "* **Filter -** [example](https://github.com/rjdscott/PyFP/blob/master/notebooks/lambda-expressions.ipynb)\n",
    "* **Reduce -** [example](https://github.com/rjdscott/PyFP/blob/master/notebooks/lambda-expressions.ipynb)\n",
    "\n",
    "## Execution Order\n",
    "Most programs are single-threaded, i.e. one and only one piece of code is being executed at a time. Even if you have a multithreaded program, most of the threads are blocked waiting for I/O to complete, e.g. file, network, etc.\n",
    "```\n",
    "1. Get out the bread\n",
    "2. Put 2 slices into the toaster\n",
    "3. Select darkness\n",
    "4. Push down the lever\n",
    "5. Wait for toast to pop up\n",
    "6. Remove toast\n",
    "7. Get out the butter\n",
    "8. Get a butter knife\n",
    "9. Butter toast\n",
    "```\n",
    "In this example, there are two independent operations: getting butter and toasting bread. They only become interdependent at step 9.\n",
    "\n",
    "We could do steps 7 and 8 concurrently with steps 1 through 6 since they are independent from one another.\n",
    "\n",
    "But the minute we do this, things get complicated:\n",
    "\n",
    "```\n",
    "Thread 1\n",
    "--------\n",
    "1. Get out the bread\n",
    "2. Put 2 slices into the toaster\n",
    "3. Select darkness\n",
    "4. Push down the lever\n",
    "5. Wait for toast to pop up\n",
    "6. Remove toast\n",
    "\n",
    "Thread 2\n",
    "--------\n",
    "1. Get out the butter\n",
    "2. Get a butter knife\n",
    "3. Wait for Thread 1 to complete\n",
    "4. Butter toast\n",
    "```\n",
    "\n",
    "The order of execution in a Pure Functional Language can be determined by the compiler."
   ]
  },
  {
   "cell_type": "code",
   "execution_count": null,
   "metadata": {},
   "outputs": [],
   "source": []
  }
 ],
 "metadata": {
  "kernelspec": {
   "display_name": "Python 3",
   "language": "python",
   "name": "python3"
  },
  "language_info": {
   "codemirror_mode": {
    "name": "ipython",
    "version": 3
   },
   "file_extension": ".py",
   "mimetype": "text/x-python",
   "name": "python",
   "nbconvert_exporter": "python",
   "pygments_lexer": "ipython3",
   "version": "3.6.5"
  }
 },
 "nbformat": 4,
 "nbformat_minor": 2
}
